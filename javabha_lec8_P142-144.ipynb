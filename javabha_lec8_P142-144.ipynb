{
 "cells": [
  {
   "cell_type": "code",
   "execution_count": null,
   "metadata": {},
   "outputs": [],
   "source": [
    "# welcome to this answers!\n",
    "# this is designed by kaveh nazari!\n",
    "# this is for who study lesson 7 on py4e book!"
   ]
  },
  {
   "cell_type": "code",
   "execution_count": 32,
   "metadata": {},
   "outputs": [
    {
     "name": "stdout",
     "output_type": "stream",
     "text": [
      "number of (S) that you are searching is 10.\n"
     ]
    }
   ],
   "source": [
    "# Q1_P142:\n",
    "fname = open(input('Enter a file = '))\n",
    "rfile = fname.read()\n",
    "word = input('Enter a letter to find = ')\n",
    "count = 0\n",
    "try:           \n",
    "    for line in rfile:\n",
    "        for i in line:\n",
    "            if i == word:\n",
    "                count += 1\n",
    "    print(f'number of ({word.upper()}) that you are searching is {count}.')\n",
    "except:\n",
    "    print('enter correct')"
   ]
  },
  {
   "cell_type": "code",
   "execution_count": 31,
   "metadata": {},
   "outputs": [
    {
     "name": "stdout",
     "output_type": "stream",
     "text": [
      "this is not BMP file!\n"
     ]
    }
   ],
   "source": [
    "# Q2_P142:\n",
    "filename = open(input(\"Enter a file =\"))\n",
    "header = filename.read(2)               #read(2) means just read 2 line\n",
    "\n",
    "if header == b'\\x42\\x4D':               #format bynari\n",
    "    print(\"this BMP file\")\n",
    "else:\n",
    "    print(\"this is not BMP file!\")"
   ]
  },
  {
   "cell_type": "code",
   "execution_count": 30,
   "metadata": {},
   "outputs": [
    {
     "name": "stdout",
     "output_type": "stream",
     "text": [
      "this is a test\n",
      "this is test 2.\n",
      "this is test3.\n",
      "i would like to eat an egg\n",
      "what would you do if i kill you :(\n",
      "please help me\n",
      "no way to keep out!\n",
      "tell me how?\n"
     ]
    }
   ],
   "source": [
    "# Q3_P142:\n",
    "fname = open(input('enter a file name ='))\n",
    "readfile = fname.read()\n",
    "print(readfile)"
   ]
  },
  {
   "cell_type": "code",
   "execution_count": 29,
   "metadata": {},
   "outputs": [
    {
     "name": "stdout",
     "output_type": "stream",
     "text": [
      "['this is a test\\n', 'this is test 2.\\n', 'this is test3.\\n', 'i would like to eat an egg\\n', 'what would you do if i kill you :(\\n', 'please help me\\n', 'no way to keep out!\\n', 'tell me how?']\n"
     ]
    }
   ],
   "source": [
    "# Q4_P142:\n",
    "fname = open(input('enter a file name ='))\n",
    "readfile = fname.readlines()\n",
    "print(readfile)"
   ]
  },
  {
   "cell_type": "code",
   "execution_count": 1,
   "metadata": {},
   "outputs": [
    {
     "ename": "FileNotFoundError",
     "evalue": "[Errno 2] No such file or directory: ''",
     "output_type": "error",
     "traceback": [
      "\u001b[1;31m---------------------------------------------------------------------------\u001b[0m",
      "\u001b[1;31mFileNotFoundError\u001b[0m                         Traceback (most recent call last)",
      "\u001b[1;32mc:\\Users\\kaveh\\Desktop\\hale masaele python\\javabha_lec8_32Q_P142-144.ipynb Cell 6\u001b[0m line \u001b[0;36m2\n\u001b[0;32m      <a href='vscode-notebook-cell:/c%3A/Users/kaveh/Desktop/hale%20masaele%20python/javabha_lec8_32Q_P142-144.ipynb#W5sZmlsZQ%3D%3D?line=0'>1</a>\u001b[0m \u001b[39m# Q5_P142:\u001b[39;00m\n\u001b[1;32m----> <a href='vscode-notebook-cell:/c%3A/Users/kaveh/Desktop/hale%20masaele%20python/javabha_lec8_32Q_P142-144.ipynb#W5sZmlsZQ%3D%3D?line=1'>2</a>\u001b[0m fname \u001b[39m=\u001b[39m \u001b[39mopen\u001b[39;49m(\u001b[39minput\u001b[39;49m(\u001b[39m'\u001b[39;49m\u001b[39mEnter a file = \u001b[39;49m\u001b[39m'\u001b[39;49m))\n\u001b[0;32m      <a href='vscode-notebook-cell:/c%3A/Users/kaveh/Desktop/hale%20masaele%20python/javabha_lec8_32Q_P142-144.ipynb#W5sZmlsZQ%3D%3D?line=2'>3</a>\u001b[0m rfile \u001b[39m=\u001b[39m fname\u001b[39m.\u001b[39mread()\n\u001b[0;32m      <a href='vscode-notebook-cell:/c%3A/Users/kaveh/Desktop/hale%20masaele%20python/javabha_lec8_32Q_P142-144.ipynb#W5sZmlsZQ%3D%3D?line=3'>4</a>\u001b[0m words \u001b[39m=\u001b[39m rfile\u001b[39m.\u001b[39msplit()        \u001b[39m#it would separate each word\u001b[39;00m\n",
      "File \u001b[1;32m~\\AppData\\Local\\Packages\\PythonSoftwareFoundation.Python.3.11_qbz5n2kfra8p0\\LocalCache\\local-packages\\Python311\\site-packages\\IPython\\core\\interactiveshell.py:284\u001b[0m, in \u001b[0;36m_modified_open\u001b[1;34m(file, *args, **kwargs)\u001b[0m\n\u001b[0;32m    277\u001b[0m \u001b[39mif\u001b[39;00m file \u001b[39min\u001b[39;00m {\u001b[39m0\u001b[39m, \u001b[39m1\u001b[39m, \u001b[39m2\u001b[39m}:\n\u001b[0;32m    278\u001b[0m     \u001b[39mraise\u001b[39;00m \u001b[39mValueError\u001b[39;00m(\n\u001b[0;32m    279\u001b[0m         \u001b[39mf\u001b[39m\u001b[39m\"\u001b[39m\u001b[39mIPython won\u001b[39m\u001b[39m'\u001b[39m\u001b[39mt let you open fd=\u001b[39m\u001b[39m{\u001b[39;00mfile\u001b[39m}\u001b[39;00m\u001b[39m by default \u001b[39m\u001b[39m\"\u001b[39m\n\u001b[0;32m    280\u001b[0m         \u001b[39m\"\u001b[39m\u001b[39mas it is likely to crash IPython. If you know what you are doing, \u001b[39m\u001b[39m\"\u001b[39m\n\u001b[0;32m    281\u001b[0m         \u001b[39m\"\u001b[39m\u001b[39myou can use builtins\u001b[39m\u001b[39m'\u001b[39m\u001b[39m open.\u001b[39m\u001b[39m\"\u001b[39m\n\u001b[0;32m    282\u001b[0m     )\n\u001b[1;32m--> 284\u001b[0m \u001b[39mreturn\u001b[39;00m io_open(file, \u001b[39m*\u001b[39;49margs, \u001b[39m*\u001b[39;49m\u001b[39m*\u001b[39;49mkwargs)\n",
      "\u001b[1;31mFileNotFoundError\u001b[0m: [Errno 2] No such file or directory: ''"
     ]
    }
   ],
   "source": [
    "# Q5_P142:\n",
    "fname = open(input('Enter a file = '))\n",
    "rfile = fname.read()\n",
    "words = rfile.split()        #it would separate each word\n",
    "longest_word = []\n",
    "max_word = 0\n",
    "for word in words:\n",
    "    number_word = len(word)\n",
    "    if number_word>max_word:\n",
    "        longest_word = [word]\n",
    "        max_word = number_word\n",
    "    elif number_word == max_word:\n",
    "        longest_word.append(word)\n",
    "\n",
    "print('max words:')\n",
    "for word in longest_word:\n",
    "    print(word)\n",
    "\n"
   ]
  },
  {
   "cell_type": "code",
   "execution_count": 55,
   "metadata": {},
   "outputs": [
    {
     "name": "stdout",
     "output_type": "stream",
     "text": [
      "number of line of file name : (text.txt) is 8.\n"
     ]
    }
   ],
   "source": [
    "# Q6_P142:\n",
    "fname = input('Enter a file = ')\n",
    "file_name = open(fname)\n",
    "count = 0\n",
    "for line in file_name:\n",
    "    count += 1\n",
    "print(f'number of line of file name : ({fname}) is {count}.')"
   ]
  },
  {
   "cell_type": "code",
   "execution_count": 28,
   "metadata": {},
   "outputs": [
    {
     "name": "stdout",
     "output_type": "stream",
     "text": [
      "this : 3\n",
      "is : 3\n",
      "a : 1\n",
      "test : 2\n",
      "2. : 1\n",
      "test3. : 1\n",
      "i : 2\n",
      "would : 2\n",
      "like : 1\n",
      "to : 2\n",
      "eat : 1\n",
      "an : 1\n",
      "egg : 1\n",
      "what : 1\n",
      "you : 2\n",
      "do : 1\n",
      "if : 1\n",
      "kill : 1\n",
      ":( : 1\n",
      "please : 1\n",
      "help : 1\n",
      "me : 2\n",
      "no : 1\n",
      "way : 1\n",
      "keep : 1\n",
      "out! : 1\n",
      "tell : 1\n",
      "how? : 1\n"
     ]
    }
   ],
   "source": [
    "# Q7_P142:\n",
    "fname = open(input('Enter a file = '))\n",
    "rname = fname.read()\n",
    "word = rname.split()\n",
    "word_count = {}\n",
    "for line in word:\n",
    "    if line in word_count:\n",
    "        word_count[line] += 1\n",
    "    else:\n",
    "        word_count[line] = 1\n",
    "for line , count in word_count.items():\n",
    "    print(f'{line} : {count}')"
   ]
  },
  {
   "cell_type": "code",
   "execution_count": 15,
   "metadata": {},
   "outputs": [
    {
     "name": "stdout",
     "output_type": "stream",
     "text": [
      "a\n",
      "d\n",
      "c\n",
      "\n"
     ]
    }
   ],
   "source": [
    "# Q8_P142:\n",
    "fname = input('Enter a file name = ')\n",
    "\n",
    "\n",
    "file_name = open(fname , 'w')\n",
    "\n",
    "\n",
    "number = int(input('how much line do you need?'))\n",
    "for line in range(number):\n",
    "    data = input('Enter a note = ')\n",
    "    file_name.write(data + '\\n')\n",
    "\n",
    "file_name.close()\n",
    "\n",
    "read = open(fname , 'r')\n",
    "print(read.read())\n",
    "read.close()\n",
    "\n",
    "\n",
    "\n"
   ]
  },
  {
   "cell_type": "code",
   "execution_count": null,
   "metadata": {},
   "outputs": [],
   "source": [
    "# Q9_P142:"
   ]
  },
  {
   "cell_type": "code",
   "execution_count": 16,
   "metadata": {},
   "outputs": [],
   "source": [
    "# Q10_P142:"
   ]
  },
  {
   "cell_type": "code",
   "execution_count": 21,
   "metadata": {},
   "outputs": [
    {
     "name": "stdout",
     "output_type": "stream",
     "text": [
      "tell me how?\n"
     ]
    }
   ],
   "source": [
    "# Q11_P142:\n",
    "fname = open(input('Enter a file = '))\n",
    "rname = fname.readlines()\n",
    "import random\n",
    "random_line = random.choice(rname)\n",
    "print(random_line)"
   ]
  },
  {
   "cell_type": "code",
   "execution_count": 22,
   "metadata": {},
   "outputs": [],
   "source": [
    "# Q12_P143:"
   ]
  },
  {
   "cell_type": "code",
   "execution_count": null,
   "metadata": {},
   "outputs": [],
   "source": [
    "# Q13_P143:"
   ]
  },
  {
   "cell_type": "code",
   "execution_count": null,
   "metadata": {},
   "outputs": [],
   "source": [
    "# Q14_P143:"
   ]
  },
  {
   "cell_type": "code",
   "execution_count": null,
   "metadata": {},
   "outputs": [],
   "source": [
    "# Q15_P143:"
   ]
  },
  {
   "cell_type": "code",
   "execution_count": null,
   "metadata": {},
   "outputs": [],
   "source": [
    "# Q16_P143:"
   ]
  },
  {
   "cell_type": "code",
   "execution_count": null,
   "metadata": {},
   "outputs": [],
   "source": [
    "# Q17_P143:"
   ]
  },
  {
   "cell_type": "code",
   "execution_count": null,
   "metadata": {},
   "outputs": [],
   "source": [
    "# Q18_P143:"
   ]
  },
  {
   "cell_type": "code",
   "execution_count": null,
   "metadata": {},
   "outputs": [],
   "source": [
    "# Q19_P143:"
   ]
  },
  {
   "cell_type": "code",
   "execution_count": 29,
   "metadata": {},
   "outputs": [
    {
     "name": "stdout",
     "output_type": "stream",
     "text": [
      "tell me how?no way to keep out!\n",
      "please help me\n",
      "what would you do if i kill you :(\n",
      "i would like to eat an egg\n",
      "this is test3.\n",
      "this is test 2.\n",
      "this is a test\n",
      "\n"
     ]
    }
   ],
   "source": [
    "# Q20_P143:\n",
    "fname = open(input('Enter a file = '))\n",
    "rname = fname.readlines()\n",
    "\n",
    "reverse_file = reversed(rname)\n",
    "\n",
    "new_file = open('f_name.txt' , 'w')\n",
    "new_file.writelines(reverse_file)\n",
    "new_file.close()\n",
    "\n",
    "y = open('f_name.txt')\n",
    "print(y.read())"
   ]
  },
  {
   "cell_type": "code",
   "execution_count": null,
   "metadata": {},
   "outputs": [],
   "source": [
    "# Q21_P143:"
   ]
  },
  {
   "cell_type": "code",
   "execution_count": 23,
   "metadata": {},
   "outputs": [],
   "source": [
    "# Q22_P143:"
   ]
  },
  {
   "cell_type": "code",
   "execution_count": 36,
   "metadata": {},
   "outputs": [
    {
     "name": "stdout",
     "output_type": "stream",
     "text": [
      "THIS IS A TEST\n",
      "THIS IS TEST 2.\n",
      "THIS IS TEST3.\n",
      "I WOULD LIKE TO EAT AN EGG\n",
      "WHAT WOULD YOU DO IF I KILL YOU :(\n",
      "PLEASE HELP ME\n",
      "NO WAY TO KEEP OUT!\n",
      "TELL ME HOW?\n"
     ]
    }
   ],
   "source": [
    "# Q23_P143:\n",
    "fname = open(input('Enter a file name = '))\n",
    "rname = fname.read()\n",
    "print(rname.upper())"
   ]
  },
  {
   "cell_type": "code",
   "execution_count": null,
   "metadata": {},
   "outputs": [],
   "source": [
    "# Q24_P143"
   ]
  },
  {
   "cell_type": "code",
   "execution_count": null,
   "metadata": {},
   "outputs": [],
   "source": [
    "# Q25_P143"
   ]
  },
  {
   "cell_type": "code",
   "execution_count": null,
   "metadata": {},
   "outputs": [],
   "source": [
    "# Q26_P143"
   ]
  },
  {
   "cell_type": "code",
   "execution_count": null,
   "metadata": {},
   "outputs": [],
   "source": [
    "# Q27_P143"
   ]
  },
  {
   "cell_type": "code",
   "execution_count": 30,
   "metadata": {},
   "outputs": [],
   "source": [
    "# Q28_P143"
   ]
  },
  {
   "cell_type": "code",
   "execution_count": 31,
   "metadata": {},
   "outputs": [],
   "source": [
    "# Q29_P143:"
   ]
  },
  {
   "cell_type": "code",
   "execution_count": 32,
   "metadata": {},
   "outputs": [],
   "source": [
    "# Q30_P143:"
   ]
  },
  {
   "cell_type": "code",
   "execution_count": null,
   "metadata": {},
   "outputs": [],
   "source": [
    "# Q31_P143:"
   ]
  },
  {
   "cell_type": "code",
   "execution_count": 44,
   "metadata": {},
   "outputs": [
    {
     "name": "stdout",
     "output_type": "stream",
     "text": [
      "word is : 3\n"
     ]
    }
   ],
   "source": [
    "# Q32_P143:\n",
    "fname = open(input('Enter a file = '))\n",
    "rname = fname.read()\n",
    "num = rname.split()\n",
    "num_word = input('type a word = ')\n",
    "num1 = 0\n",
    "for line in num:\n",
    "    if line == num_word:\n",
    "        num1 += 1\n",
    "print(f'word {num_word} : {num1}')"
   ]
  },
  {
   "cell_type": "code",
   "execution_count": null,
   "metadata": {},
   "outputs": [],
   "source": []
  }
 ],
 "metadata": {
  "kernelspec": {
   "display_name": "Python 3",
   "language": "python",
   "name": "python3"
  },
  "language_info": {
   "codemirror_mode": {
    "name": "ipython",
    "version": 3
   },
   "file_extension": ".py",
   "mimetype": "text/x-python",
   "name": "python",
   "nbconvert_exporter": "python",
   "pygments_lexer": "ipython3",
   "version": "3.9.18"
  }
 },
 "nbformat": 4,
 "nbformat_minor": 2
}
