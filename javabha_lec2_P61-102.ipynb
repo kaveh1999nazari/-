{
 "cells": [
  {
   "cell_type": "code",
   "execution_count": 8,
   "metadata": {},
   "outputs": [
    {
     "name": "stdout",
     "output_type": "stream",
     "text": [
      "number of man = 2\n",
      "number of woman = 2\n",
      "average of salary man = 1325\n",
      "average of salary man = 649\n"
     ]
    }
   ],
   "source": [
    "# Q2_P61:\n",
    "num = int(input('enter number of employee ='))\n",
    "lst = []\n",
    "for i in range(num):\n",
    "    id_employee = int(input('enter your id ='))\n",
    "    year_of_sign_up = int(input('how much do you work ='))\n",
    "    sex = int(input('sex (0:woman 1:man)='))\n",
    "    salary = int(input('enter your payment = '))\n",
    "    lst.append((id_employee , year_of_sign_up , sex , salary))\n",
    "count_woman = 0\n",
    "salary_woman = 0\n",
    "count_man = 0\n",
    "salary_man = 0\n",
    "for employee in lst:\n",
    "    id_employee , year_of_sign_up , sex , salary = employee\n",
    "    if sex == 0:\n",
    "        count_woman += 1\n",
    "        salary_woman += salary\n",
    "    elif sex == 1:\n",
    "        count_man += 1\n",
    "        salary_man += salary\n",
    "# averange of salary man & woman:\n",
    "average_woman = round(salary_woman / count_woman)\n",
    "average_man = round(salary_man / count_man)\n",
    "\n",
    "print(f'number of man = {count_man}')\n",
    "print(f'number of woman = {count_woman}')\n",
    "print(f'average of salary man = {average_man}')\n",
    "print(f'average of salary man = {average_woman}')\n",
    "\n"
   ]
  },
  {
   "cell_type": "code",
   "execution_count": 11,
   "metadata": {},
   "outputs": [
    {
     "name": "stdout",
     "output_type": "stream",
     "text": [
      "1\n"
     ]
    }
   ],
   "source": [
    "# Q3_P61:\n",
    "word = input('enter a word = ')\n",
    "vowel_sound = ['a', 'o', 'u', 'e', 'i']\n",
    "count = 0\n",
    "for i in word:\n",
    "    if i in vowel_sound:\n",
    "        count += 1\n",
    "print(count)\n",
    "    "
   ]
  },
  {
   "cell_type": "code",
   "execution_count": 12,
   "metadata": {},
   "outputs": [],
   "source": [
    "# Q4_P61\n"
   ]
  },
  {
   "cell_type": "code",
   "execution_count": 34,
   "metadata": {},
   "outputs": [
    {
     "name": "stdout",
     "output_type": "stream",
     "text": [
      "هاها بازیکن 1 برنده شدی :)\n",
      "هاها بازیکن 2 برنده شدی :)\n",
      "هاها بازیکن 2 برنده شدی :)\n",
      "امتیاز بازیکن 1 = 1 \n",
      "امتیاز بازیکن 2 =2\n"
     ]
    }
   ],
   "source": [
    "# Q5_P61:\n",
    "number = int(input('مسابقه دلت میخواد چند دور باشه ؟؟'))\n",
    "player1_wins = 0\n",
    "player2_wins = 0\n",
    "for i in range(number):\n",
    "    player1 = int(input('بازیکن 1: انتخاب کنید (1: قیچی, 2: سنگ, 3: کاغذ: '))\n",
    "    player2 = int(input('بازیکن 2: انتخاب کنید (1: قیچی, 2: سنگ, 3: کاغذ:'))\n",
    "    if player1 == player2:\n",
    "        print('خاک تو سرتون که مثل هم اوردین :)')\n",
    "    elif player1 == 3 and player2 == 2 or player1 == 2 and player2 == 1 or player1 == 1 and player2 == 3:\n",
    "        print('هاها بازیکن 1 برنده شدی :)')\n",
    "        player1_wins += 1\n",
    "    elif player1 == 2 and player2 == 3 or player1 == 1 and player2 == 2 or player1 == 3 and player2 == 1:\n",
    "        print('هاها بازیکن 2 برنده شدی :)')\n",
    "        player2_wins += 1\n",
    "\n",
    "print(f'امتیاز بازیکن 1 = {player1_wins} \\nامتیاز بازیکن 2 ={player2_wins}')\n",
    "    \n"
   ]
  },
  {
   "cell_type": "code",
   "execution_count": 12,
   "metadata": {},
   "outputs": [
    {
     "name": "stdout",
     "output_type": "stream",
     "text": [
      "1008\n",
      "1017\n",
      "1026\n",
      "1035\n",
      "1044\n",
      "1053\n",
      "1062\n",
      "1071\n",
      "1080\n",
      "1089\n",
      "1098\n"
     ]
    }
   ],
   "source": [
    "# Q6_P62:\n",
    "for i in range(1000,1101):\n",
    "    if i % 9 == 0:\n",
    "        print(i)"
   ]
  },
  {
   "cell_type": "code",
   "execution_count": 25,
   "metadata": {},
   "outputs": [
    {
     "name": "stdout",
     "output_type": "stream",
     "text": [
      "your mean is green\n"
     ]
    }
   ],
   "source": [
    "# Q7_P62:\n",
    "dict = {'r' : 'red' , 'g' : 'green' , 'b' : 'blue'}\n",
    "entry = input('enter a word =')\n",
    "selected_color = dict.get(entry.lower())\n",
    "print(f'your mean is {selected_color}')"
   ]
  },
  {
   "cell_type": "code",
   "execution_count": 27,
   "metadata": {},
   "outputs": [
    {
     "name": "stdout",
     "output_type": "stream",
     "text": [
      "2.5\n"
     ]
    }
   ],
   "source": [
    "# Q8_P62:\n",
    "n1 = int(input('Enter a number:'))\n",
    "n2 = int(input('Enter a number:'))\n",
    "if n1 > n2:\n",
    "    print(n1 / n2)\n",
    "else:\n",
    "    print(n2/n1)"
   ]
  },
  {
   "cell_type": "code",
   "execution_count": null,
   "metadata": {},
   "outputs": [],
   "source": []
  },
  {
   "cell_type": "code",
   "execution_count": 90,
   "metadata": {},
   "outputs": [
    {
     "name": "stdout",
     "output_type": "stream",
     "text": [
      "1 1 1 1 1 1 1 1 \n",
      "2 2 2 2 2 2 2 \n",
      "3 3 3 3 3 3 \n",
      "4 4 4 4 4 \n",
      "5 5 5 5 \n",
      "6 6 6 \n",
      "7 7 \n",
      "8 \n"
     ]
    }
   ],
   "source": [
    "# Q10_P62:\n",
    "for i in range(1, 9):\n",
    "    for j in range(9 , i, -1):\n",
    "        print(i, end=' ')\n",
    "    print()\n"
   ]
  },
  {
   "cell_type": "code",
   "execution_count": 86,
   "metadata": {},
   "outputs": [
    {
     "name": "stdout",
     "output_type": "stream",
     "text": [
      "1 1 1 1 1 1 1 1 \n",
      "2 2 2 2 2 2 2 2 \n",
      "3 3 3 3 3 3 3 3 \n",
      "4 4 4 4 4 4 4 4 \n",
      "5 5 5 5 5 5 5 5 \n",
      "6 6 6 6 6 6 6 6 \n",
      "7 7 7 7 7 7 7 7 \n",
      "8 8 8 8 8 8 8 8 \n"
     ]
    }
   ],
   "source": [
    "# Q11_P62:\n",
    "for i in range(1 , 9):\n",
    "    for j in range(8):\n",
    "        print(i , end=' ')\n",
    "    print()"
   ]
  },
  {
   "cell_type": "code",
   "execution_count": 87,
   "metadata": {},
   "outputs": [
    {
     "name": "stdout",
     "output_type": "stream",
     "text": [
      "1 \n",
      "2 2 \n",
      "3 3 3 \n",
      "4 4 4 4 \n",
      "5 5 5 5 5 \n",
      "6 6 6 6 6 6 \n",
      "7 7 7 7 7 7 7 \n",
      "8 8 8 8 8 8 8 8 \n"
     ]
    }
   ],
   "source": [
    "# Q12_P62:\n",
    "for i in range(1 , 9):\n",
    "    for j in range(i):\n",
    "        print(i , end = ' ')\n",
    "    print()"
   ]
  },
  {
   "cell_type": "code",
   "execution_count": null,
   "metadata": {},
   "outputs": [],
   "source": [
    "# Q13_P63:\n"
   ]
  },
  {
   "cell_type": "code",
   "execution_count": 2,
   "metadata": {},
   "outputs": [
    {
     "name": "stdout",
     "output_type": "stream",
     "text": [
      "Year                       price\n",
      " 1                    12,800,000,000\n",
      " 2                    8,192,000,000\n",
      " 3                    5,242,880,000\n",
      " 4                    3,355,443,200\n",
      " 5                    2,147,483,648\n",
      " 6                    1,374,389,535\n",
      " 7                    879,609,302\n",
      " 8                    562,949,953\n",
      " 9                    360,287,970\n",
      " 10                    230,584,301\n"
     ]
    }
   ],
   "source": [
    "#Q14_P63:\n",
    "user = eval(input('enter a price = '))\n",
    "year = int(input('enter year ='))\n",
    "print('Year' , '                     ' , 'price')\n",
    "for i in range(1 ,year+1):\n",
    "        user -= (0.2*user)\n",
    "        user -= (0.2*user) \n",
    "        print(f' {i}                    {round(user):,}')"
   ]
  },
  {
   "cell_type": "code",
   "execution_count": null,
   "metadata": {},
   "outputs": [],
   "source": [
    "# Q15_P63:\n",
    "\n"
   ]
  },
  {
   "cell_type": "code",
   "execution_count": 29,
   "metadata": {},
   "outputs": [
    {
     "name": "stdout",
     "output_type": "stream",
     "text": [
      "your point is 50.5 and your level is E\n"
     ]
    }
   ],
   "source": [
    "# Q24_P64:\n",
    "quiz1 = eval(input('Enter your first point of quiz = '))\n",
    "quiz2 = eval(input('Enter your second point of quiz = '))\n",
    "mianterm =eval(input('Enter your point of mianterm ='))\n",
    "main = eval(input('Enter your score of main ='))\n",
    "def score(quiz1 , quiz2 , mianterm , main):\n",
    "    quiz = quiz1 + quiz2 * 5 * 0.25\n",
    "    mianterm1 = mianterm * 5 * 0.25\n",
    "    mainexam = main * 5 * 0.5\n",
    "    score = quiz + mianterm1 + mainexam\n",
    "    return score\n",
    "def point(score1):\n",
    "    if score1 >= 90:\n",
    "        point1 = 'A'\n",
    "    elif score1 >= 80 and score1 <= 90:\n",
    "        point1 = 'B' \n",
    "    elif score1 >= 70 and score1 <= 80:\n",
    "        point1 = 'C'\n",
    "    elif score1 >= 60 and score1 <= 70:\n",
    "        point1 = 'D'\n",
    "    elif score1 <= 60:\n",
    "        point1 = 'E'\n",
    "    return point1\n",
    "score1 = score(quiz1 , quiz2 , mianterm , main)\n",
    "print(f'your point is {score1} and your level is {point(score1)}')"
   ]
  },
  {
   "cell_type": "code",
   "execution_count": 45,
   "metadata": {},
   "outputs": [
    {
     "name": "stdout",
     "output_type": "stream",
     "text": [
      "this account 12 has 1200$ used and 300$ free.\n"
     ]
    }
   ],
   "source": [
    "# Q25_P65:\n",
    "number = int(input('Enter your count ='))\n",
    "taraz1 = eval(input('Enter your first taraz ='))   #1000\n",
    "buy = eval(input('Enter your sum of all buys ='))  #500\n",
    "customer = eval(input('Enter your pay from store =')) #300\n",
    "limit = eval(input('Enter limit of buy ='))     #1500\n",
    "new_taraz = taraz1 + (buy - customer)\n",
    "if new_taraz > limit:\n",
    "    print(f'this account {number} has bought {new_taraz} and limited buy is {limit}')\n",
    "else:\n",
    "    print(f'this account {number} has {new_taraz}$ used and {limit - new_taraz}$ free.')"
   ]
  },
  {
   "cell_type": "code",
   "execution_count": 2,
   "metadata": {},
   "outputs": [
    {
     "name": "stdout",
     "output_type": "stream",
     "text": [
      "enter correct!\n"
     ]
    }
   ],
   "source": [
    "# Q32_P66:\n",
    "while True:\n",
    "    try:\n",
    "        n1 = int(input('enter a number = '))\n",
    "        if n1 == 'done':break\n",
    "        n2 = int(input('enter a number = '))\n",
    "        operator = input('enter +,-,*,/,% :')\n",
    "        if operator == '+' or 'a' or 'A':\n",
    "            print(n1 + n2)\n",
    "        elif operator == '-' or 'S' or 's':\n",
    "            print(n1 - n2)\n",
    "        elif operator == '*' or 'x' or 'X':\n",
    "            print(n1 * n2)\n",
    "        elif operator == '/' or 'd' or 'D':\n",
    "            print(n1/n2)\n",
    "        elif operator == '%' or 'm' or 'M':\n",
    "            print(n1%n2)\n",
    "        else:\n",
    "            print('invalid operator!')\n",
    "    except:\n",
    "        print('enter correct!')\n",
    "        break\n"
   ]
  },
  {
   "cell_type": "code",
   "execution_count": 7,
   "metadata": {},
   "outputs": [
    {
     "name": "stdout",
     "output_type": "stream",
     "text": [
      "0 \u0000\n",
      "1 \u0001\n",
      "2 \u0002\n",
      "3 \u0003\n",
      "4 \u0004\n",
      "5 \u0005\n",
      "6 \u0006\n",
      "7 \u0007\n",
      "8\n",
      "9 \t\n",
      "10 \n",
      "\n",
      "11 \u000b\n",
      "12 \f\n",
      "13 \n",
      "14 \u000e\n",
      "15 \u000f\n",
      "16 \u0010\n",
      "17 \u0011\n",
      "18 \u0012\n",
      "19 \u0013\n",
      "20 \u0014\n",
      "21 \u0015\n",
      "22 \u0016\n",
      "23 \u0017\n",
      "24 \u0018\n",
      "25 \u0019\n",
      "26 \u001a\n",
      "27 \u001b\n",
      "28 \u001c\n",
      "29 \u001d\n",
      "30 \u001e\n",
      "31 \u001f\n",
      "32  \n",
      "33 !\n",
      "34 \"\n",
      "35 #\n",
      "36 $\n",
      "37 %\n",
      "38 &\n",
      "39 '\n",
      "40 (\n",
      "41 )\n",
      "42 *\n",
      "43 +\n",
      "44 ,\n",
      "45 -\n",
      "46 .\n",
      "47 /\n",
      "48 0\n",
      "49 1\n",
      "50 2\n",
      "51 3\n",
      "52 4\n",
      "53 5\n",
      "54 6\n",
      "55 7\n",
      "56 8\n",
      "57 9\n",
      "58 :\n",
      "59 ;\n",
      "60 <\n",
      "61 =\n",
      "62 >\n",
      "63 ?\n",
      "64 @\n",
      "65 A\n",
      "66 B\n",
      "67 C\n",
      "68 D\n",
      "69 E\n",
      "70 F\n",
      "71 G\n",
      "72 H\n",
      "73 I\n",
      "74 J\n",
      "75 K\n",
      "76 L\n",
      "77 M\n",
      "78 N\n",
      "79 O\n",
      "80 P\n",
      "81 Q\n",
      "82 R\n",
      "83 S\n",
      "84 T\n",
      "85 U\n",
      "86 V\n",
      "87 W\n",
      "88 X\n",
      "89 Y\n",
      "90 Z\n",
      "91 [\n",
      "92 \\\n",
      "93 ]\n",
      "94 ^\n",
      "95 _\n",
      "96 `\n",
      "97 a\n",
      "98 b\n",
      "99 c\n",
      "100 d\n",
      "101 e\n",
      "102 f\n",
      "103 g\n",
      "104 h\n",
      "105 i\n",
      "106 j\n",
      "107 k\n",
      "108 l\n",
      "109 m\n",
      "110 n\n",
      "111 o\n",
      "112 p\n",
      "113 q\n",
      "114 r\n",
      "115 s\n",
      "116 t\n",
      "117 u\n",
      "118 v\n",
      "119 w\n",
      "120 x\n",
      "121 y\n",
      "122 z\n",
      "123 {\n",
      "124 |\n",
      "125 }\n",
      "126 ~\n",
      "127 \n",
      "128 \n",
      "129 \n",
      "130 \n",
      "131 \n",
      "132 \n",
      "133 \n",
      "134 \n",
      "135 \n",
      "136 \n",
      "137 \n",
      "138 \n",
      "139 \n",
      "140 \n",
      "141 \n",
      "142 \n",
      "143 \n",
      "144 \n",
      "145 \n",
      "146 \n",
      "147 \n",
      "148 \n",
      "149 \n",
      "150 \n",
      "151 \n",
      "152 \n",
      "153 \n",
      "154 \n",
      "155 \n",
      "156 \n",
      "157 \n",
      "158 \n",
      "159 \n",
      "160  \n",
      "161 ¡\n",
      "162 ¢\n",
      "163 £\n",
      "164 ¤\n",
      "165 ¥\n",
      "166 ¦\n",
      "167 §\n",
      "168 ¨\n",
      "169 ©\n",
      "170 ª\n",
      "171 «\n",
      "172 ¬\n",
      "173 ­\n",
      "174 ®\n",
      "175 ¯\n",
      "176 °\n",
      "177 ±\n",
      "178 ²\n",
      "179 ³\n",
      "180 ´\n",
      "181 µ\n",
      "182 ¶\n",
      "183 ·\n",
      "184 ¸\n",
      "185 ¹\n",
      "186 º\n",
      "187 »\n",
      "188 ¼\n",
      "189 ½\n",
      "190 ¾\n",
      "191 ¿\n",
      "192 À\n",
      "193 Á\n",
      "194 Â\n",
      "195 Ã\n",
      "196 Ä\n",
      "197 Å\n",
      "198 Æ\n",
      "199 Ç\n",
      "200 È\n",
      "201 É\n",
      "202 Ê\n",
      "203 Ë\n",
      "204 Ì\n",
      "205 Í\n",
      "206 Î\n",
      "207 Ï\n",
      "208 Ð\n",
      "209 Ñ\n",
      "210 Ò\n",
      "211 Ó\n",
      "212 Ô\n",
      "213 Õ\n",
      "214 Ö\n",
      "215 ×\n",
      "216 Ø\n",
      "217 Ù\n",
      "218 Ú\n",
      "219 Û\n",
      "220 Ü\n",
      "221 Ý\n",
      "222 Þ\n",
      "223 ß\n",
      "224 à\n",
      "225 á\n",
      "226 â\n",
      "227 ã\n",
      "228 ä\n",
      "229 å\n",
      "230 æ\n",
      "231 ç\n",
      "232 è\n",
      "233 é\n",
      "234 ê\n",
      "235 ë\n",
      "236 ì\n",
      "237 í\n",
      "238 î\n",
      "239 ï\n",
      "240 ð\n",
      "241 ñ\n",
      "242 ò\n",
      "243 ó\n",
      "244 ô\n",
      "245 õ\n",
      "246 ö\n",
      "247 ÷\n",
      "248 ø\n",
      "249 ù\n",
      "250 ú\n",
      "251 û\n",
      "252 ü\n",
      "253 ý\n",
      "254 þ\n",
      "255 ÿ\n"
     ]
    }
   ],
   "source": [
    "# Q36_P66:\n",
    "for i in range (0 , 256):\n",
    "    print(i , chr(i))"
   ]
  },
  {
   "cell_type": "code",
   "execution_count": 23,
   "metadata": {},
   "outputs": [
    {
     "name": "stdout",
     "output_type": "stream",
     "text": [
      "may\n",
      "enter correct number of month!\n"
     ]
    }
   ],
   "source": [
    "# Q38_P67:\n",
    "month = {1 : 'january' , 2 : 'fabuary' , 3 : 'march' , 4 : 'april' , 5 : 'may' , 6 : 'june' , 7 : 'july' , 8 : 'august' , 9 : 'september' , 10 : 'october' , 11 : 'november' , 12 : 'december'}\n",
    "while True:\n",
    "    num = int(input('enter a number ='))\n",
    "    if 0 < num < 13:\n",
    "        print(month[num])\n",
    "    else:\n",
    "        print('enter correct number of month!')\n",
    "        break\n"
   ]
  },
  {
   "cell_type": "code",
   "execution_count": 3,
   "metadata": {},
   "outputs": [
    {
     "data": {
      "text/plain": [
       "5"
      ]
     },
     "execution_count": 3,
     "metadata": {},
     "output_type": "execute_result"
    }
   ],
   "source": [
    "# Q39_P67:\n",
    "string = input('enter a string =')\n",
    "len(string)\n",
    "# count = 0\n",
    "# for i in string:\n",
    "#    count += 1\n",
    "# print(count)"
   ]
  },
  {
   "cell_type": "code",
   "execution_count": 28,
   "metadata": {},
   "outputs": [
    {
     "name": "stdout",
     "output_type": "stream",
     "text": [
      "عدد‌ها به صورت نزولی:\n",
      "['8765', '8756', '8675', '8657', '8576', '8567', '7865', '7856', '7685', '7658', '7586', '7568', '6875', '6857', '6785', '6758', '6587', '6578', '5876', '5867', '5786', '5768', '5687', '5678']\n"
     ]
    }
   ],
   "source": [
    "# Q40_P67:\n",
    "from itertools import permutations\n",
    "\n",
    "def generate_numbers():\n",
    "    # تولید همه ترتیب‌های مختلف ارقام 5، 6، 7 و 8 بدون تکرار\n",
    "    all_permutations = permutations(['5', '6', '7', '8'], 4)\n",
    "\n",
    "    # تبدیل ترتیب به عدد\n",
    "    numbers = [''.join(p) for p in all_permutations]\n",
    "\n",
    "    # مرتب‌سازی عددها به صورت نزولی\n",
    "    sorted_numbers = sorted(numbers, reverse=True)\n",
    "\n",
    "    return sorted_numbers\n",
    "\n",
    "if __name__ == \"__main__\":\n",
    "    result = generate_numbers()\n",
    "    print(\"عدد‌ها به صورت نزولی:\")\n",
    "    print(result)\n"
   ]
  },
  {
   "cell_type": "code",
   "execution_count": 39,
   "metadata": {},
   "outputs": [
    {
     "name": "stdout",
     "output_type": "stream",
     "text": [
      "average_odd = 7\n",
      "average_even = 4\n"
     ]
    }
   ],
   "source": [
    "# Q43_P67:\n",
    "num = input('Enter a number =')\n",
    "even = []\n",
    "odd =[]\n",
    "for i in num:\n",
    "    i = int(i)\n",
    "    if i % 2 == 0:\n",
    "        even.append(i)\n",
    "    else:\n",
    "        odd.append(i)\n",
    "print(f'average_odd = {round(sum(odd) / len(odd))}')\n",
    "print(f'average_even = {round(sum(even) / len(even))}')\n",
    "\n",
    "    "
   ]
  },
  {
   "cell_type": "code",
   "execution_count": 49,
   "metadata": {},
   "outputs": [
    {
     "name": "stdout",
     "output_type": "stream",
     "text": [
      "[111, 112, 113, 121, 122, 123, 131, 132, 133, 211, 212, 213, 221, 222, 223, 231, 232, 233, 311, 312, 313, 321, 322, 323, 331, 332, 333]\n"
     ]
    }
   ],
   "source": [
    "# Q44_P67:\n",
    "from itertools import product\n",
    "lst = []\n",
    "make_lst =list(product([1 , 2 , 3] , repeat = 3))\n",
    "for i in make_lst:\n",
    "    number = i[0] *100 + i[1]*10 + i[2]\n",
    "    lst.append(number)\n",
    "print(lst)\n"
   ]
  },
  {
   "cell_type": "code",
   "execution_count": 50,
   "metadata": {},
   "outputs": [
    {
     "name": "stdout",
     "output_type": "stream",
     "text": [
      "[111, 114, 118, 141, 144, 148, 181, 184, 188, 411, 414, 418, 441, 444, 448, 481, 484, 488, 811, 814, 818, 841, 844, 848, 881, 884, 888]\n"
     ]
    }
   ],
   "source": [
    "# Q45_P68:\n",
    "from itertools import product\n",
    "make_lst = list(product([1,4,8] , repeat=3))\n",
    "lst =[]\n",
    "for i in make_lst:\n",
    "    number = i[0] *100 + i[1] * 10 + i[2]\n",
    "    lst.append(number)\n",
    "print(lst)"
   ]
  },
  {
   "cell_type": "code",
   "execution_count": 54,
   "metadata": {},
   "outputs": [
    {
     "name": "stdout",
     "output_type": "stream",
     "text": [
      "['1249', '1294', '1429', '1492', '1924', '1942', '2149', '2194', '2419', '2491', '2914', '2941', '4129', '4192', '4219', '4291', '4912', '4921', '9124', '9142', '9214', '9241', '9412', '9421']\n"
     ]
    }
   ],
   "source": [
    "# Q46_P68:\n",
    "from itertools  import permutations\n",
    "def organize_number():\n",
    "    make_number = permutations(['1' , '2' , '4' , '9'] , r = 4)\n",
    "    number = [''.join(i) for i in make_number]\n",
    "    return number\n",
    "print(organize_number())"
   ]
  },
  {
   "cell_type": "code",
   "execution_count": 73,
   "metadata": {},
   "outputs": [
    {
     "name": "stdout",
     "output_type": "stream",
     "text": [
      "{'0': 0, '1': 0, '2': 1, '3': 1, '4': 0, '5': 0, '6': 0, '7': 0, '8': 0, '9': 0}\n"
     ]
    }
   ],
   "source": [
    "# Q47_P68:\n",
    "input_sentence = input('enter a sentece')\n",
    "digit_number = {str(i) : 0 for i in range(10)}\n",
    "for char in input_sentence:\n",
    "    if char.isdigit():\n",
    "        digit_number[char] += 1\n",
    "print(digit_number)"
   ]
  },
  {
   "cell_type": "code",
   "execution_count": 1,
   "metadata": {},
   "outputs": [
    {
     "name": "stdout",
     "output_type": "stream",
     "text": [
      "your real salary is = 1630.0\n",
      "your real salary is = 730\n"
     ]
    }
   ],
   "source": [
    "# Q73_P74:\n",
    "while True:\n",
    "    salary = int(input('Enter your salary ='))\n",
    "    bimeh = int(input('Enter your type of bimeh?press=> 1 - 2 - 3'))\n",
    "    tax = int(input('Enter your tax ='))\n",
    "    tax1 = (salary * tax) // 100\n",
    "    if bimeh == 1:\n",
    "        bimeh = (salary * 7) // 100\n",
    "    elif bimeh == 2:\n",
    "        bimeh = (salary * 8.5) // 100\n",
    "    elif bimeh == 3:\n",
    "        bimeh = (salary * 10) // 100\n",
    "    else:\n",
    "        print('please choice correct!')\n",
    "    print(f'your real salary is = {salary - bimeh - tax1}')\n",
    "    user = input('do you want to continue?')\n",
    "    if user.lower() == 'no' : break"
   ]
  },
  {
   "cell_type": "code",
   "execution_count": 2,
   "metadata": {},
   "outputs": [
    {
     "name": "stdout",
     "output_type": "stream",
     "text": [
      "25\n"
     ]
    }
   ],
   "source": [
    "# Q74_P74:\n",
    "x = int(input('Enter x = ?'))\n",
    "y = int(input('Enter y = ?'))\n",
    "print(x ** y)"
   ]
  },
  {
   "cell_type": "code",
   "execution_count": 37,
   "metadata": {},
   "outputs": [
    {
     "name": "stdout",
     "output_type": "stream",
     "text": [
      "it thas zero\n"
     ]
    }
   ],
   "source": [
    "# Q75_P74:\n",
    "while True: \n",
    "    entry = input('Enter a number = ')\n",
    "    if entry == '-1' : break\n",
    "    x = 'there is no zero'\n",
    "    for i in entry:\n",
    "        i = int(i)\n",
    "        if i == 0:\n",
    "            x ='it thas zero'\n",
    "            break\n",
    "    print(x)  "
   ]
  },
  {
   "cell_type": "code",
   "execution_count": 47,
   "metadata": {},
   "outputs": [
    {
     "name": "stdout",
     "output_type": "stream",
     "text": [
      "[(2, 5040), (1, 7200), (3, 9000)]\n",
      "family 2 has min cost and thier cost is 5040\n",
      "family 3 has max cost and thier cost is 9000\n"
     ]
    }
   ],
   "source": [
    "# Q77_P74:\n",
    "while True:\n",
    "    num = int(input('how many family do you want to check?'))\n",
    "    dict = {}\n",
    "    for i in range(1,num+1):\n",
    "        cost = int(input(f'Enter family {i} cost ='))\n",
    "        yearly = cost * 30 * 12\n",
    "        dict[i] = yearly\n",
    "    sort_dict = sorted(dict.items(), key = lambda x:x[1])\n",
    "    print(sort_dict)\n",
    "    print(f'family {sort_dict[0][0]} has min cost and thier cost is {sort_dict[0][1]}\\nfamily {sort_dict[-1][0]} has max cost and thier cost is {sort_dict[-1][1]}')\n",
    "    \n",
    "\n",
    "    user = int(input('do you want to continue?'))\n",
    "    if user == -99: break\n"
   ]
  },
  {
   "cell_type": "code",
   "execution_count": 49,
   "metadata": {},
   "outputs": [
    {
     "name": "stdout",
     "output_type": "stream",
     "text": [
      "[('akbar', 9), ('reza', 6), ('ali', 5)]\n"
     ]
    }
   ],
   "source": [
    "# Q78_P74:\n",
    "num = int(input('Enter your number of employee ='))\n",
    "dict = {}\n",
    "for i in range(1,num+1):\n",
    "    name_employe = input(f'enter employee {i} name =')\n",
    "    hours_rate = int(input(f'Enter {name_employe} rate hours ='))\n",
    "    dict[name_employe] = hours_rate\n",
    "sort_dict = sorted(dict.items() , key = lambda x : x[1] , reverse= True)\n",
    "print(sort_dict[-3:])\n"
   ]
  },
  {
   "cell_type": "code",
   "execution_count": 10,
   "metadata": {},
   "outputs": [
    {
     "name": "stdout",
     "output_type": "stream",
     "text": [
      "number of mans between 18 until 20 : 4\n",
      "percentage of man who between 18 until 20 : 80%\n"
     ]
    }
   ],
   "source": [
    "# Q79_P74:\n",
    "while True:\n",
    "    num = int(input('Enter your num ='))\n",
    "    if num == -1 : break\n",
    "    lst = []\n",
    "    for i in range(num):\n",
    "        gender = input('Enter gender = ')\n",
    "        age = int(input(f'Enter {gender} age ='))\n",
    "        lst.append((gender , age))\n",
    "    lst_man = list(filter(lambda x:x[0] != 'w' ,lst))\n",
    "    man = list(filter(lambda x:x[1] in [18,19,20] , lst_man))\n",
    "    print(f'number of mans between 18 until 20 : {len(man)}')\n",
    "    print(f'percentage of man who between 18 until 20 : {round((len(man) *100) / len(lst_man))}%')"
   ]
  },
  {
   "cell_type": "code",
   "execution_count": null,
   "metadata": {},
   "outputs": [],
   "source": [
    "# Q80_P74:\n",
    "def calculate_investment(capital, interest_rate, years):\n",
    "    investment = capital * (1 + interest_rate) ** years\n",
    "    return investment\n",
    "\n",
    "capital = float(input(\"مقدار سرمایه اولیه بیمه‌گذار را وارد کنید: \"))\n",
    "interest_rate = float(input(\"میزان سود سالانه را به صورت عشاری وارد کنید: \"))\n",
    "years = int(input(\"تعداد سال‌های سرمایه‌گذاری را وارد کنید: \"))\n",
    "\n",
    "investment = calculate_investment(capital, interest_rate, years)\n",
    "print(\"سرمایه بیمه‌گذار پس از\", years, \"سال:\", investment)"
   ]
  },
  {
   "cell_type": "code",
   "execution_count": 38,
   "metadata": {},
   "outputs": [
    {
     "ename": "ZeroDivisionError",
     "evalue": "integer division or modulo by zero",
     "output_type": "error",
     "traceback": [
      "\u001b[1;31m---------------------------------------------------------------------------\u001b[0m",
      "\u001b[1;31mZeroDivisionError\u001b[0m                         Traceback (most recent call last)",
      "\u001b[1;32md:\\python\\hale masaele python\\javabha_lec2_P61-102.ipynb Cell 34\u001b[0m line \u001b[0;36m1\n\u001b[0;32m      <a href='vscode-notebook-cell:/d%3A/python/hale%20masaele%20python/javabha_lec2_P61-102.ipynb#X45sZmlsZQ%3D%3D?line=7'>8</a>\u001b[0m perfect_numbers \u001b[39m=\u001b[39m []\n\u001b[0;32m     <a href='vscode-notebook-cell:/d%3A/python/hale%20masaele%20python/javabha_lec2_P61-102.ipynb#X45sZmlsZQ%3D%3D?line=9'>10</a>\u001b[0m \u001b[39mfor\u001b[39;00m num, product \u001b[39min\u001b[39;00m \u001b[39mzip\u001b[39m(make_num, lst):\n\u001b[1;32m---> <a href='vscode-notebook-cell:/d%3A/python/hale%20masaele%20python/javabha_lec2_P61-102.ipynb#X45sZmlsZQ%3D%3D?line=10'>11</a>\u001b[0m     \u001b[39mif\u001b[39;00m \u001b[39msum\u001b[39;49m(product \u001b[39m/\u001b[39;49m\u001b[39m/\u001b[39;49m digit \u001b[39mfor\u001b[39;49;00m digit \u001b[39min\u001b[39;49;00m \u001b[39mrange\u001b[39;49m(product)) \u001b[39m==\u001b[39m product:\n\u001b[0;32m     <a href='vscode-notebook-cell:/d%3A/python/hale%20masaele%20python/javabha_lec2_P61-102.ipynb#X45sZmlsZQ%3D%3D?line=11'>12</a>\u001b[0m         \u001b[39mprint\u001b[39m(product , num)\n\u001b[0;32m     <a href='vscode-notebook-cell:/d%3A/python/hale%20masaele%20python/javabha_lec2_P61-102.ipynb#X45sZmlsZQ%3D%3D?line=12'>13</a>\u001b[0m         perfect_numbers\u001b[39m.\u001b[39mappend(num)\n",
      "\u001b[1;32md:\\python\\hale masaele python\\javabha_lec2_P61-102.ipynb Cell 34\u001b[0m line \u001b[0;36m1\n\u001b[0;32m      <a href='vscode-notebook-cell:/d%3A/python/hale%20masaele%20python/javabha_lec2_P61-102.ipynb#X45sZmlsZQ%3D%3D?line=7'>8</a>\u001b[0m perfect_numbers \u001b[39m=\u001b[39m []\n\u001b[0;32m     <a href='vscode-notebook-cell:/d%3A/python/hale%20masaele%20python/javabha_lec2_P61-102.ipynb#X45sZmlsZQ%3D%3D?line=9'>10</a>\u001b[0m \u001b[39mfor\u001b[39;00m num, product \u001b[39min\u001b[39;00m \u001b[39mzip\u001b[39m(make_num, lst):\n\u001b[1;32m---> <a href='vscode-notebook-cell:/d%3A/python/hale%20masaele%20python/javabha_lec2_P61-102.ipynb#X45sZmlsZQ%3D%3D?line=10'>11</a>\u001b[0m     \u001b[39mif\u001b[39;00m \u001b[39msum\u001b[39m(product \u001b[39m/\u001b[39;49m\u001b[39m/\u001b[39;49m digit \u001b[39mfor\u001b[39;00m digit \u001b[39min\u001b[39;00m \u001b[39mrange\u001b[39m(product)) \u001b[39m==\u001b[39m product:\n\u001b[0;32m     <a href='vscode-notebook-cell:/d%3A/python/hale%20masaele%20python/javabha_lec2_P61-102.ipynb#X45sZmlsZQ%3D%3D?line=11'>12</a>\u001b[0m         \u001b[39mprint\u001b[39m(product , num)\n\u001b[0;32m     <a href='vscode-notebook-cell:/d%3A/python/hale%20masaele%20python/javabha_lec2_P61-102.ipynb#X45sZmlsZQ%3D%3D?line=12'>13</a>\u001b[0m         perfect_numbers\u001b[39m.\u001b[39mappend(num)\n",
      "\u001b[1;31mZeroDivisionError\u001b[0m: integer division or modulo by zero"
     ]
    }
   ],
   "source": [
    "# Q81_P75:\n",
    "from itertools import product\n",
    "make_num = list(product([1,2,3,4,5,6,7,8,9] , repeat=4))\n",
    "lst = []\n",
    "for i in make_num:\n",
    "    z = i[0] *i[1] * i[2] * i[3]\n",
    "    lst.append(z)\n",
    "perfect_numbers = []\n",
    "\n",
    "for num, product in zip(make_num, lst):\n",
    "    if sum(product // digit for digit in num) == product:\n",
    "        perfect_numbers.append(num)\n",
    "\n",
    "print(\"اعداد کامل:\")\n",
    "for num in perfect_numbers:\n",
    "    print(\"\".join(map(str, num)))"
   ]
  },
  {
   "cell_type": "code",
   "execution_count": 53,
   "metadata": {},
   "outputs": [
    {
     "name": "stdout",
     "output_type": "stream",
     "text": [
      "['1000', '1001', '1002', '1003', '1004', '1005', '1006', '1007', '1008', '1009', '1010', '1011', '1012', '1013', '1014', '1015', '1016', '1017', '1018', '1019', '1020', '1021', '1022', '1023', '1024', '1025', '1026', '1027', '1028', '1029', '1030', '1031', '1032', '1033', '1034', '1035', '1036', '1037', '1038', '1039', '1040', '1041', '1042', '1043', '1044', '1045', '1046', '1047', '1048', '1049', '1050', '1051', '1052', '1053', '1054', '1055', '1056', '1057', '1058', '1059', '1060', '1061', '1062', '1063', '1064', '1065', '1066', '1067', '1068', '1069', '1070', '1071', '1072', '1073', '1074', '1075', '1076', '1077', '1078', '1079', '1080', '1081', '1082', '1083', '1084', '1085', '1086', '1087', '1088', '1089', '1090', '1091', '1092', '1093', '1094', '1095', '1096', '1097', '1098', '1099', '1100', '1101', '1102', '1103', '1104', '1105', '1106', '1107', '1108', '1109', '1110', '1120', '1130', '1140', '1150', '1160', '1170', '1180', '1190', '1200', '1201', '1202', '1203', '1204', '1205', '1206', '1207', '1208', '1209', '1210', '1220', '1230', '1240', '1250', '1260', '1270', '1280', '1290', '1300', '1301', '1302', '1303', '1304', '1305', '1306', '1307', '1308', '1309', '1310', '1320', '1330', '1340', '1350', '1360', '1370', '1380', '1390', '1400', '1401', '1402', '1403', '1404', '1405', '1406', '1407', '1408', '1409', '1410', '1420', '1430', '1440', '1450', '1460', '1470', '1480', '1490', '1500', '1501', '1502', '1503', '1504', '1505', '1506', '1507', '1508', '1509', '1510', '1520', '1530', '1540', '1550', '1560', '1570', '1580', '1590', '1600', '1601', '1602', '1603', '1604', '1605', '1606', '1607', '1608', '1609', '1610', '1620', '1630', '1640', '1650', '1660', '1670', '1680', '1690', '1700', '1701', '1702', '1703', '1704', '1705', '1706', '1707', '1708', '1709', '1710', '1720', '1730', '1740', '1750', '1760', '1770', '1780', '1790', '1800', '1801', '1802', '1803', '1804', '1805', '1806', '1807', '1808', '1809', '1810', '1820', '1830', '1840', '1850', '1860', '1870', '1880', '1890', '1900', '1901', '1902', '1903', '1904', '1905', '1906', '1907', '1908', '1909', '1910', '1920', '1930', '1940', '1950', '1960', '1970', '1980', '1990', '2000', '2001', '2002', '2003', '2004', '2005', '2006', '2007', '2008', '2009', '2010', '2011', '2012', '2013', '2014', '2015', '2016', '2017', '2018', '2019', '2020', '2021', '2022', '2023', '2024', '2025', '2026', '2027', '2028', '2029', '2030', '2031', '2032', '2033', '2034', '2035', '2036', '2037', '2038', '2039', '2040', '2041', '2042', '2043', '2044', '2045', '2046', '2047', '2048', '2049', '2050', '2051', '2052', '2053', '2054', '2055', '2056', '2057', '2058', '2059', '2060', '2061', '2062', '2063', '2064', '2065', '2066', '2067', '2068', '2069', '2070', '2071', '2072', '2073', '2074', '2075', '2076', '2077', '2078', '2079', '2080', '2081', '2082', '2083', '2084', '2085', '2086', '2087', '2088', '2089', '2090', '2091', '2092', '2093', '2094', '2095', '2096', '2097', '2098', '2099', '2100', '2101', '2102', '2103', '2104', '2105', '2106', '2107', '2108', '2109', '2110', '2120', '2130', '2140', '2150', '2160', '2170', '2180', '2190', '2200', '2201', '2202', '2203', '2204', '2205', '2206', '2207', '2208', '2209', '2210', '2220', '2230', '2240', '2250', '2260', '2270', '2280', '2290', '2300', '2301', '2302', '2303', '2304', '2305', '2306', '2307', '2308', '2309', '2310', '2320', '2330', '2340', '2350', '2360', '2370', '2380', '2390', '2400', '2401', '2402', '2403', '2404', '2405', '2406', '2407', '2408', '2409', '2410', '2420', '2430', '2440', '2450', '2460', '2470', '2480', '2490', '2500', '2501', '2502', '2503', '2504', '2505', '2506', '2507', '2508', '2509', '2510', '2520', '2530', '2540', '2550', '2560', '2570', '2580', '2590', '2600', '2601', '2602', '2603', '2604', '2605', '2606', '2607', '2608', '2609', '2610', '2620', '2630', '2640', '2650', '2660', '2670', '2680', '2690', '2700', '2701', '2702', '2703', '2704', '2705', '2706', '2707', '2708', '2709', '2710', '2720', '2730', '2740', '2750', '2760', '2770', '2780', '2790', '2800', '2801', '2802', '2803', '2804', '2805', '2806', '2807', '2808', '2809', '2810', '2820', '2830', '2840', '2850', '2860', '2870', '2880', '2890', '2900', '2901', '2902', '2903', '2904', '2905', '2906', '2907', '2908', '2909', '2910', '2920', '2930', '2940', '2950', '2960', '2970', '2980', '2990', '3000', '3001', '3002', '3003', '3004', '3005', '3006', '3007', '3008', '3009', '3010', '3011', '3012', '3013', '3014', '3015', '3016', '3017', '3018', '3019', '3020', '3021', '3022', '3023', '3024', '3025', '3026', '3027', '3028', '3029', '3030', '3031', '3032', '3033', '3034', '3035', '3036', '3037', '3038', '3039', '3040', '3041', '3042', '3043', '3044', '3045', '3046', '3047', '3048', '3049', '3050', '3051', '3052', '3053', '3054', '3055', '3056', '3057', '3058', '3059', '3060', '3061', '3062', '3063', '3064', '3065', '3066', '3067', '3068', '3069', '3070', '3071', '3072', '3073', '3074', '3075', '3076', '3077', '3078', '3079', '3080', '3081', '3082', '3083', '3084', '3085', '3086', '3087', '3088', '3089', '3090', '3091', '3092', '3093', '3094', '3095', '3096', '3097', '3098', '3099', '3100', '3101', '3102', '3103', '3104', '3105', '3106', '3107', '3108', '3109', '3110', '3120', '3130', '3140', '3150', '3160', '3170', '3180', '3190', '3200', '3201', '3202', '3203', '3204', '3205', '3206', '3207', '3208', '3209', '3210', '3220', '3230', '3240', '3250', '3260', '3270', '3280', '3290', '3300', '3301', '3302', '3303', '3304', '3305', '3306', '3307', '3308', '3309', '3310', '3320', '3330', '3340', '3350', '3360', '3370', '3380', '3390', '3400', '3401', '3402', '3403', '3404', '3405', '3406', '3407', '3408', '3409', '3410', '3420', '3430', '3440', '3450', '3460', '3470', '3480', '3490', '3500', '3501', '3502', '3503', '3504', '3505', '3506', '3507', '3508', '3509', '3510', '3520', '3530', '3540', '3550', '3560', '3570', '3580', '3590', '3600', '3601', '3602', '3603', '3604', '3605', '3606', '3607', '3608', '3609', '3610', '3620', '3630', '3640', '3650', '3660', '3670', '3680', '3690', '3700', '3701', '3702', '3703', '3704', '3705', '3706', '3707', '3708', '3709', '3710', '3720', '3730', '3740', '3750', '3760', '3770', '3780', '3790', '3800', '3801', '3802', '3803', '3804', '3805', '3806', '3807', '3808', '3809', '3810', '3820', '3830', '3840', '3850', '3860', '3870', '3880', '3890', '3900', '3901', '3902', '3903', '3904', '3905', '3906', '3907', '3908', '3909', '3910', '3920', '3930', '3940', '3950', '3960', '3970', '3980', '3990', '4000', '4001', '4002', '4003', '4004', '4005', '4006', '4007', '4008', '4009', '4010', '4011', '4012', '4013', '4014', '4015', '4016', '4017', '4018', '4019', '4020', '4021', '4022', '4023', '4024', '4025', '4026', '4027', '4028', '4029', '4030', '4031', '4032', '4033', '4034', '4035', '4036', '4037', '4038', '4039', '4040', '4041', '4042', '4043', '4044', '4045', '4046', '4047', '4048', '4049', '4050', '4051', '4052', '4053', '4054', '4055', '4056', '4057', '4058', '4059', '4060', '4061', '4062', '4063', '4064', '4065', '4066', '4067', '4068', '4069', '4070', '4071', '4072', '4073', '4074', '4075', '4076', '4077', '4078', '4079', '4080', '4081', '4082', '4083', '4084', '4085', '4086', '4087', '4088', '4089', '4090', '4091', '4092', '4093', '4094', '4095', '4096', '4097', '4098', '4099', '4100', '4101', '4102', '4103', '4104', '4105', '4106', '4107', '4108', '4109', '4110', '4120', '4130', '4140', '4150', '4160', '4170', '4180', '4190', '4200', '4201', '4202', '4203', '4204', '4205', '4206', '4207', '4208', '4209', '4210', '4220', '4230', '4240', '4250', '4260', '4270', '4280', '4290', '4300', '4301', '4302', '4303', '4304', '4305', '4306', '4307', '4308', '4309', '4310', '4320', '4330', '4340', '4350', '4360', '4370', '4380', '4390', '4400', '4401', '4402', '4403', '4404', '4405', '4406', '4407', '4408', '4409', '4410', '4420', '4430', '4440', '4450', '4460', '4470', '4480', '4490', '4500', '4501', '4502', '4503', '4504', '4505', '4506', '4507', '4508', '4509', '4510', '4520', '4530', '4540', '4550', '4560', '4570', '4580', '4590', '4600', '4601', '4602', '4603', '4604', '4605', '4606', '4607', '4608', '4609', '4610', '4620', '4630', '4640', '4650', '4660', '4670', '4680', '4690', '4700', '4701', '4702', '4703', '4704', '4705', '4706', '4707', '4708', '4709', '4710', '4720', '4730', '4740', '4750', '4760', '4770', '4780', '4790', '4800', '4801', '4802', '4803', '4804', '4805', '4806', '4807', '4808', '4809', '4810', '4820', '4830', '4840', '4850', '4860', '4870', '4880', '4890', '4900', '4901', '4902', '4903', '4904', '4905', '4906', '4907', '4908', '4909', '4910', '4920', '4930', '4940', '4950', '4960', '4970', '4980', '4990', '5000', '5001', '5002', '5003', '5004', '5005', '5006', '5007', '5008', '5009', '5010', '5011', '5012', '5013', '5014', '5015', '5016', '5017', '5018', '5019', '5020', '5021', '5022', '5023', '5024', '5025', '5026', '5027', '5028', '5029', '5030', '5031', '5032', '5033', '5034', '5035', '5036', '5037', '5038', '5039', '5040', '5041', '5042', '5043', '5044', '5045', '5046', '5047', '5048', '5049', '5050', '5051', '5052', '5053', '5054', '5055', '5056', '5057', '5058', '5059', '5060', '5061', '5062', '5063', '5064', '5065', '5066', '5067', '5068', '5069', '5070', '5071', '5072', '5073', '5074', '5075', '5076', '5077', '5078', '5079', '5080', '5081', '5082', '5083', '5084', '5085', '5086', '5087', '5088', '5089', '5090', '5091', '5092', '5093', '5094', '5095', '5096', '5097', '5098', '5099', '5100', '5101', '5102', '5103', '5104', '5105', '5106', '5107', '5108', '5109', '5110', '5120', '5130', '5140', '5150', '5160', '5170', '5180', '5190', '5200', '5201', '5202', '5203', '5204', '5205', '5206', '5207', '5208', '5209', '5210', '5220', '5230', '5240', '5250', '5260', '5270', '5280', '5290', '5300', '5301', '5302', '5303', '5304', '5305', '5306', '5307', '5308', '5309', '5310', '5320', '5330', '5340', '5350', '5360', '5370', '5380', '5390', '5400', '5401', '5402', '5403', '5404', '5405', '5406', '5407', '5408', '5409', '5410', '5420', '5430', '5440', '5450', '5460', '5470', '5480', '5490', '5500', '5501', '5502', '5503', '5504', '5505', '5506', '5507', '5508', '5509', '5510', '5520', '5530', '5540', '5550', '5560', '5570', '5580', '5590', '5600', '5601', '5602', '5603', '5604', '5605', '5606', '5607', '5608', '5609', '5610', '5620', '5630', '5640', '5650', '5660', '5670', '5680', '5690', '5700', '5701', '5702', '5703', '5704', '5705', '5706', '5707', '5708', '5709', '5710', '5720', '5730', '5740', '5750', '5760', '5770', '5780', '5790', '5800', '5801', '5802', '5803', '5804', '5805', '5806', '5807', '5808', '5809', '5810', '5820', '5830', '5840', '5850', '5860', '5870', '5880', '5890', '5900', '5901', '5902', '5903', '5904', '5905', '5906', '5907', '5908', '5909', '5910', '5920', '5930', '5940', '5950', '5960', '5970', '5980', '5990', '6000', '6001', '6002', '6003', '6004', '6005', '6006', '6007', '6008', '6009', '6010', '6011', '6012', '6013', '6014', '6015', '6016', '6017', '6018', '6019', '6020', '6021', '6022', '6023', '6024', '6025', '6026', '6027', '6028', '6029', '6030', '6031', '6032', '6033', '6034', '6035', '6036', '6037', '6038', '6039', '6040', '6041', '6042', '6043', '6044', '6045', '6046', '6047', '6048', '6049', '6050', '6051', '6052', '6053', '6054', '6055', '6056', '6057', '6058', '6059', '6060', '6061', '6062', '6063', '6064', '6065', '6066', '6067', '6068', '6069', '6070', '6071', '6072', '6073', '6074', '6075', '6076', '6077', '6078', '6079', '6080', '6081', '6082', '6083', '6084', '6085', '6086', '6087', '6088', '6089', '6090', '6091', '6092', '6093', '6094', '6095', '6096', '6097', '6098', '6099', '6100', '6101', '6102', '6103', '6104', '6105', '6106', '6107', '6108', '6109', '6110', '6120', '6130', '6140', '6150', '6160', '6170', '6180', '6190', '6200', '6201', '6202', '6203', '6204', '6205', '6206', '6207', '6208', '6209', '6210', '6220', '6230', '6240', '6250', '6260', '6270', '6280', '6290', '6300', '6301', '6302', '6303', '6304', '6305', '6306', '6307', '6308', '6309', '6310', '6320', '6330', '6340', '6350', '6360', '6370', '6380', '6390', '6400', '6401', '6402', '6403', '6404', '6405', '6406', '6407', '6408', '6409', '6410', '6420', '6430', '6440', '6450', '6460', '6470', '6480', '6490', '6500', '6501', '6502', '6503', '6504', '6505', '6506', '6507', '6508', '6509', '6510', '6520', '6530', '6540', '6550', '6560', '6570', '6580', '6590', '6600', '6601', '6602', '6603', '6604', '6605', '6606', '6607', '6608', '6609', '6610', '6620', '6630', '6640', '6650', '6660', '6670', '6680', '6690', '6700', '6701', '6702', '6703', '6704', '6705', '6706', '6707', '6708', '6709', '6710', '6720', '6730', '6740', '6750', '6760', '6770', '6780', '6790', '6800', '6801', '6802', '6803', '6804', '6805', '6806', '6807', '6808', '6809', '6810', '6820', '6830', '6840', '6850', '6860', '6870', '6880', '6890', '6900', '6901', '6902', '6903', '6904', '6905', '6906', '6907', '6908', '6909', '6910', '6920', '6930', '6940', '6950', '6960', '6970', '6980', '6990', '7000', '7001', '7002', '7003', '7004', '7005', '7006', '7007', '7008', '7009', '7010', '7011', '7012', '7013', '7014', '7015', '7016', '7017', '7018', '7019', '7020', '7021', '7022', '7023', '7024', '7025', '7026', '7027', '7028', '7029', '7030', '7031', '7032', '7033', '7034', '7035', '7036', '7037', '7038', '7039', '7040', '7041', '7042', '7043', '7044', '7045', '7046', '7047', '7048', '7049', '7050', '7051', '7052', '7053', '7054', '7055', '7056', '7057', '7058', '7059', '7060', '7061', '7062', '7063', '7064', '7065', '7066', '7067', '7068', '7069', '7070', '7071', '7072', '7073', '7074', '7075', '7076', '7077', '7078', '7079', '7080', '7081', '7082', '7083', '7084', '7085', '7086', '7087', '7088', '7089', '7090', '7091', '7092', '7093', '7094', '7095', '7096', '7097', '7098', '7099', '7100', '7101', '7102', '7103', '7104', '7105', '7106', '7107', '7108', '7109', '7110', '7120', '7130', '7140', '7150', '7160', '7170', '7180', '7190', '7200', '7201', '7202', '7203', '7204', '7205', '7206', '7207', '7208', '7209', '7210', '7220', '7230', '7240', '7250', '7260', '7270', '7280', '7290', '7300', '7301', '7302', '7303', '7304', '7305', '7306', '7307', '7308', '7309', '7310', '7320', '7330', '7340', '7350', '7360', '7370', '7380', '7390', '7400', '7401', '7402', '7403', '7404', '7405', '7406', '7407', '7408', '7409', '7410', '7420', '7430', '7440', '7450', '7460', '7470', '7480', '7490', '7500', '7501', '7502', '7503', '7504', '7505', '7506', '7507', '7508', '7509', '7510', '7520', '7530', '7540', '7550', '7560', '7570', '7580', '7590', '7600', '7601', '7602', '7603', '7604', '7605', '7606', '7607', '7608', '7609', '7610', '7620', '7630', '7640', '7650', '7660', '7670', '7680', '7690', '7700', '7701', '7702', '7703', '7704', '7705', '7706', '7707', '7708', '7709', '7710', '7720', '7730', '7740', '7750', '7760', '7770', '7780', '7790', '7800', '7801', '7802', '7803', '7804', '7805', '7806', '7807', '7808', '7809', '7810', '7820', '7830', '7840', '7850', '7860', '7870', '7880', '7890', '7900', '7901', '7902', '7903', '7904', '7905', '7906', '7907', '7908', '7909', '7910', '7920', '7930', '7940', '7950', '7960', '7970', '7980', '7990', '8000', '8001', '8002', '8003', '8004', '8005', '8006', '8007', '8008', '8009', '8010', '8011', '8012', '8013', '8014', '8015', '8016', '8017', '8018', '8019', '8020', '8021', '8022', '8023', '8024', '8025', '8026', '8027', '8028', '8029', '8030', '8031', '8032', '8033', '8034', '8035', '8036', '8037', '8038', '8039', '8040', '8041', '8042', '8043', '8044', '8045', '8046', '8047', '8048', '8049', '8050', '8051', '8052', '8053', '8054', '8055', '8056', '8057', '8058', '8059', '8060', '8061', '8062', '8063', '8064', '8065', '8066', '8067', '8068', '8069', '8070', '8071', '8072', '8073', '8074', '8075', '8076', '8077', '8078', '8079', '8080', '8081', '8082', '8083', '8084', '8085', '8086', '8087', '8088', '8089', '8090', '8091', '8092', '8093', '8094', '8095', '8096', '8097', '8098', '8099', '8100', '8101', '8102', '8103', '8104', '8105', '8106', '8107', '8108', '8109', '8110', '8120', '8130', '8140', '8150', '8160', '8170', '8180', '8190', '8200', '8201', '8202', '8203', '8204', '8205', '8206', '8207', '8208', '8209', '8210', '8220', '8230', '8240', '8250', '8260', '8270', '8280', '8290', '8300', '8301', '8302', '8303', '8304', '8305', '8306', '8307', '8308', '8309', '8310', '8320', '8330', '8340', '8350', '8360', '8370', '8380', '8390', '8400', '8401', '8402', '8403', '8404', '8405', '8406', '8407', '8408', '8409', '8410', '8420', '8430', '8440', '8450', '8460', '8470', '8480', '8490', '8500', '8501', '8502', '8503', '8504', '8505', '8506', '8507', '8508', '8509', '8510', '8520', '8530', '8540', '8550', '8560', '8570', '8580', '8590', '8600', '8601', '8602', '8603', '8604', '8605', '8606', '8607', '8608', '8609', '8610', '8620', '8630', '8640', '8650', '8660', '8670', '8680', '8690', '8700', '8701', '8702', '8703', '8704', '8705', '8706', '8707', '8708', '8709', '8710', '8720', '8730', '8740', '8750', '8760', '8770', '8780', '8790', '8800', '8801', '8802', '8803', '8804', '8805', '8806', '8807', '8808', '8809', '8810', '8820', '8830', '8840', '8850', '8860', '8870', '8880', '8890', '8900', '8901', '8902', '8903', '8904', '8905', '8906', '8907', '8908', '8909', '8910', '8920', '8930', '8940', '8950', '8960', '8970', '8980', '8990', '9000', '9001', '9002', '9003', '9004', '9005', '9006', '9007', '9008', '9009', '9010', '9011', '9012', '9013', '9014', '9015', '9016', '9017', '9018', '9019', '9020', '9021', '9022', '9023', '9024', '9025', '9026', '9027', '9028', '9029', '9030', '9031', '9032', '9033', '9034', '9035', '9036', '9037', '9038', '9039', '9040', '9041', '9042', '9043', '9044', '9045', '9046', '9047', '9048', '9049', '9050', '9051', '9052', '9053', '9054', '9055', '9056', '9057', '9058', '9059', '9060', '9061', '9062', '9063', '9064', '9065', '9066', '9067', '9068', '9069', '9070', '9071', '9072', '9073', '9074', '9075', '9076', '9077', '9078', '9079', '9080', '9081', '9082', '9083', '9084', '9085', '9086', '9087', '9088', '9089', '9090', '9091', '9092', '9093', '9094', '9095', '9096', '9097', '9098', '9099', '9100', '9101', '9102', '9103', '9104', '9105', '9106', '9107', '9108', '9109', '9110', '9120', '9130', '9140', '9150', '9160', '9170', '9180', '9190', '9200', '9201', '9202', '9203', '9204', '9205', '9206', '9207', '9208', '9209', '9210', '9220', '9230', '9240', '9250', '9260', '9270', '9280', '9290', '9300', '9301', '9302', '9303', '9304', '9305', '9306', '9307', '9308', '9309', '9310', '9320', '9330', '9340', '9350', '9360', '9370', '9380', '9390', '9400', '9401', '9402', '9403', '9404', '9405', '9406', '9407', '9408', '9409', '9410', '9420', '9430', '9440', '9450', '9460', '9470', '9480', '9490', '9500', '9501', '9502', '9503', '9504', '9505', '9506', '9507', '9508', '9509', '9510', '9520', '9530', '9540', '9550', '9560', '9570', '9580', '9590', '9600', '9601', '9602', '9603', '9604', '9605', '9606', '9607', '9608', '9609', '9610', '9620', '9630', '9640', '9650', '9660', '9670', '9680', '9690', '9700', '9701', '9702', '9703', '9704', '9705', '9706', '9707', '9708', '9709', '9710', '9720', '9730', '9740', '9750', '9760', '9770', '9780', '9790', '9800', '9801', '9802', '9803', '9804', '9805', '9806', '9807', '9808', '9809', '9810', '9820', '9830', '9840', '9850', '9860', '9870', '9880', '9890', '9900', '9901', '9902', '9903', '9904', '9905', '9906', '9907', '9908', '9909', '9910', '9920', '9930', '9940', '9950', '9960', '9970', '9980', '9990']\n"
     ]
    }
   ],
   "source": [
    "# Q82_P75:\n",
    "from itertools import product\n",
    "make_num = list(product([0,1,2,3,4,5,6,7,8,9] , repeat= 4))\n",
    "lst = []\n",
    "for i in make_num:\n",
    "    if i[0] * i[1] * i[2] * i[3] == 0 :\n",
    "        z = i[0] *1000 + i[1] *100 + i[2] *10 + i[3]\n",
    "        z = str(z)\n",
    "        if len(z) == 4:\n",
    "            lst.append(z)\n",
    "print(lst)"
   ]
  },
  {
   "cell_type": "code",
   "execution_count": 60,
   "metadata": {},
   "outputs": [
    {
     "name": "stdout",
     "output_type": "stream",
     "text": [
      "word hell has not start with vowel_sound\n"
     ]
    }
   ],
   "source": [
    "# Q94_P77:\n",
    "entry = input('Enter =')\n",
    "vowel_sound = ['a' , 'i' , 'o' , 'e' , 'u']\n",
    "\n",
    "if entry.isdigit():\n",
    "    print('it is a digit number')\n",
    "elif entry[0] in vowel_sound:\n",
    "    print(f'word {entry} starts with vowel_sound')\n",
    "elif entry[0] not in vowel_sound:\n",
    "    print(f'word {entry} has not start with vowel_sound')\n",
    "else:\n",
    "    print('other')"
   ]
  },
  {
   "cell_type": "code",
   "execution_count": 61,
   "metadata": {},
   "outputs": [
    {
     "name": "stdout",
     "output_type": "stream",
     "text": [
      "number of persons who get 10 until 15 : 4\n",
      "they are => [('ali', 13), ('ahmad', 12), ('hamed', 11), ('kaveh', 15)]\n"
     ]
    }
   ],
   "source": [
    "# Q98_P77:\n",
    "num = int(input('Enter a number='))\n",
    "lst = []\n",
    "for i in range(num):\n",
    "    name = input('ener a name =')\n",
    "    average = eval(input(f'Enter {name} average ='))\n",
    "    lst.append((name , average))\n",
    "average10_15 = list(filter(lambda x:x[1] in [10,11,12,13,14,15] , lst))\n",
    "print(f'number of persons who get 10 until 15 : {len(average10_15)}\\nthey are => {average10_15}')\n"
   ]
  },
  {
   "cell_type": "code",
   "execution_count": 5,
   "metadata": {},
   "outputs": [
    {
     "name": "stdout",
     "output_type": "stream",
     "text": [
      "24\n"
     ]
    }
   ],
   "source": [
    "# Q103_P78:\n",
    "number = input('Enter a number =')\n",
    "new_num = ''\n",
    "for i in number:\n",
    "    if i in ['2','4','6','8']:\n",
    "        new_num += i\n",
    "print(new_num)"
   ]
  },
  {
   "cell_type": "code",
   "execution_count": 8,
   "metadata": {},
   "outputs": [
    {
     "name": "stdout",
     "output_type": "stream",
     "text": [
      "56045\n"
     ]
    }
   ],
   "source": [
    "# Q106_P78:\n",
    "def add_digit(user):\n",
    "    lst = list(user)\n",
    "    result = ''   \n",
    "    for i in lst:\n",
    "        new_i = str((int(i)+1) % 10)\n",
    "        result += new_i   \n",
    "    return result\n",
    "user = '45934'    #input('Enter a number =')\n",
    "print(add_digit(user))  "
   ]
  },
  {
   "cell_type": "code",
   "execution_count": 13,
   "metadata": {},
   "outputs": [
    {
     "name": "stdout",
     "output_type": "stream",
     "text": [
      "10110\n",
      "number of 0 : 2\n",
      "number of 1 : 3\n"
     ]
    }
   ],
   "source": [
    "# Q165_P94:\n",
    "num = int(input('enter a num ='))\n",
    "binary = bin(num)[2:]  # remove 0b from 0bXXXXX\n",
    "count_0 = 0\n",
    "count_1 = 0\n",
    "for i in binary:\n",
    "    if i == '0':\n",
    "        count_0 += 1\n",
    "    elif i == '1':\n",
    "        count_1 += 1\n",
    "print(binary)\n",
    "print(f'number of 0 : {count_0}\\nnumber of 1 : {count_1}')\n"
   ]
  },
  {
   "cell_type": "code",
   "execution_count": 19,
   "metadata": {},
   "outputs": [
    {
     "name": "stdout",
     "output_type": "stream",
     "text": [
      "that is not armstrong number!\n"
     ]
    }
   ],
   "source": [
    "# Q180_P96:\n",
    "import math\n",
    "num = input('Enter a num =') #371\n",
    "lst = list(num)\n",
    "sum = 0\n",
    "for i in lst:\n",
    "    sum += math.pow(int(i), int(len(lst)))\n",
    "if int(sum) == int(num):\n",
    "    print('thats is Armstrong number')\n",
    "else:\n",
    "    print('that is not armstrong number!')"
   ]
  },
  {
   "cell_type": "code",
   "execution_count": 25,
   "metadata": {},
   "outputs": [
    {
     "name": "stdout",
     "output_type": "stream",
     "text": [
      "very hot!!!\n"
     ]
    }
   ],
   "source": [
    "# Q181_P97:\n",
    "def temper(temp):\n",
    "    if temp < 0:\n",
    "        temper1 ='freezing weather!'\n",
    "    elif 0 <= temp < 10:\n",
    "        temper1 = 'very cold!'\n",
    "    elif 10 < temp < 20:\n",
    "        temper1 = 'cold weather!'\n",
    "    elif 20 < temp < 30:\n",
    "        temper1 = 'normal'\n",
    "    elif 30 < temp < 40:\n",
    "        temper1 = 'hot!!'\n",
    "    else:\n",
    "        temper1 = 'very hot!!!'\n",
    "    return temper1\n",
    "temp = int(input('enter a temprature ='))\n",
    "print(temper(temp))"
   ]
  },
  {
   "cell_type": "code",
   "execution_count": 28,
   "metadata": {},
   "outputs": [
    {
     "name": "stdout",
     "output_type": "stream",
     "text": [
      "[555, 554, 553, 545, 544, 543, 535, 534, 533, 455, 454, 453, 445, 444, 443, 435, 434, 433, 355, 354, 353, 345, 344, 343, 335, 334, 333]\n"
     ]
    }
   ],
   "source": [
    "# Q184_P98:\n",
    "from itertools import product\n",
    "make_num = list(product([3,4,5] , repeat = 3))\n",
    "new_num= []\n",
    "for i in make_num:\n",
    "    z = i[0] * 100 + i[1] * 10 + i[2]\n",
    "    new_num.append(z)\n",
    "new_num.sort(reverse=True)\n",
    "print(new_num)"
   ]
  },
  {
   "cell_type": "code",
   "execution_count": 29,
   "metadata": {},
   "outputs": [
    {
     "name": "stdout",
     "output_type": "stream",
     "text": [
      "[5678, 5687, 5768, 5786, 5867, 5876, 6578, 6587, 6758, 6785, 6857, 6875, 7568, 7586, 7658, 7685, 7856, 7865, 8567, 8576, 8657, 8675, 8756, 8765]\n"
     ]
    }
   ],
   "source": [
    "# Q185_P98:\n",
    "from itertools import permutations\n",
    "make_num = list(permutations([5,6,7,8] , r = 4))\n",
    "new_num= []\n",
    "for i in make_num:\n",
    "    z = i[0] * 1000 + i[1] * 100 + i[2] * 10 + i[3]\n",
    "    new_num.append(z)\n",
    "print(new_num)"
   ]
  },
  {
   "cell_type": "code",
   "execution_count": 30,
   "metadata": {},
   "outputs": [
    {
     "name": "stdout",
     "output_type": "stream",
     "text": [
      "[135, 137, 139, 153, 157, 159, 173, 175, 179, 193, 195, 197, 315, 317, 319, 351, 357, 359, 371, 375, 379, 391, 395, 397, 513, 517, 519, 531, 537, 539, 571, 573, 579, 591, 593, 597, 713, 715, 719, 731, 735, 739, 751, 753, 759, 791, 793, 795, 913, 915, 917, 931, 935, 937, 951, 953, 957, 971, 973, 975]\n"
     ]
    }
   ],
   "source": [
    "# Q186_P98:\n",
    "from itertools import permutations\n",
    "make_num = list(permutations([1,3,5,7,9] , r = 3))\n",
    "new_num = []\n",
    "for i in make_num:\n",
    "    z= i[0] * 100 + i[1] * 10 + i[2]\n",
    "    new_num.append(z)\n",
    "print(new_num)"
   ]
  },
  {
   "cell_type": "code",
   "execution_count": 37,
   "metadata": {},
   "outputs": [],
   "source": [
    "# Q187_P98:\n",
    "\n"
   ]
  },
  {
   "cell_type": "code",
   "execution_count": null,
   "metadata": {},
   "outputs": [],
   "source": []
  }
 ],
 "metadata": {
  "kernelspec": {
   "display_name": "KAVEH",
   "language": "python",
   "name": "python3"
  },
  "language_info": {
   "codemirror_mode": {
    "name": "ipython",
    "version": 3
   },
   "file_extension": ".py",
   "mimetype": "text/x-python",
   "name": "python",
   "nbconvert_exporter": "python",
   "pygments_lexer": "ipython3",
   "version": "3.9.18"
  }
 },
 "nbformat": 4,
 "nbformat_minor": 2
}
