{
 "cells": [
  {
   "cell_type": "code",
   "execution_count": 10,
   "metadata": {},
   "outputs": [
    {
     "name": "stdout",
     "output_type": "stream",
     "text": [
      "your parked about 23 hours and 20 minutes in here so your bill is 12.1 $\n"
     ]
    }
   ],
   "source": [
    "# Q8_P104:\n",
    "def payment(hour,minute):\n",
    "    if 0 < hour <= 3: \n",
    "        pay = 2\n",
    "    elif hour > 3 :\n",
    "        pay = ((float(f'{hour}.{minute}')- 3) * 0.5)  + 2\n",
    "    elif hour == 24:\n",
    "        pay = 10\n",
    "    return pay\n",
    "hour = int(input('Enter in hour ='))\n",
    "minute = int(input('Enter in minute ='))\n",
    "print(f'your parked about {hour} hours and {minute} minutes in here so your bill is {payment(hour,minute)} $')\n"
   ]
  },
  {
   "cell_type": "code",
   "execution_count": 27,
   "metadata": {},
   "outputs": [
    {
     "name": "stdout",
     "output_type": "stream",
     "text": [
      "Enter correct 4 number\n"
     ]
    }
   ],
   "source": [
    "# Q9_P104:\n",
    "def METHOD(entry):\n",
    "    if len(entry) == 2:\n",
    "        if entry[0] == entry[1]:\n",
    "            return entry\n",
    "        else:\n",
    "            return 'Enter correct 2 number'\n",
    "    elif len(entry) == 3:\n",
    "        if entry[1] == '0':\n",
    "            return entry\n",
    "        elif int(entry[0]) + int(entry[1]) < int(entry[2]):\n",
    "            return entry\n",
    "        else:\n",
    "            return 'Enter correct 3 number'\n",
    "    elif len(entry) == 4:\n",
    "        if entry[0] == entry[3] and entry[1] == entry[2]:\n",
    "            return entry \n",
    "        else:\n",
    "            return 'Enter correct 4 number'\n",
    "    else:\n",
    "        return 'invalid input'\n",
    "\n",
    "\n",
    "entry = input('Enter a number =')\n",
    "if 1 < len(entry) < 5:\n",
    "    print(METHOD(entry))\n",
    "else:\n",
    "    print('invalid input!')\n",
    "\n"
   ]
  },
  {
   "cell_type": "code",
   "execution_count": 1,
   "metadata": {},
   "outputs": [
    {
     "name": "stdout",
     "output_type": "stream",
     "text": [
      "your point 88 is A.\n"
     ]
    }
   ],
   "source": [
    "# Q16_P104:\n",
    "def points(point):\n",
    "    if 0 <= point <= 100:\n",
    "        if 80 <= point <= 100:\n",
    "            return 'A'\n",
    "        elif 60 <= point < 80:\n",
    "            return 'B'\n",
    "        elif 50 <= point < 60:\n",
    "            return 'c'\n",
    "        else:\n",
    "            return 'F'\n",
    "    else:\n",
    "        return 'Enter correct point!'\n",
    "point = int(input('Enter score ='))\n",
    "print(f'your point {point} is {points(point)}.')"
   ]
  },
  {
   "cell_type": "code",
   "execution_count": 3,
   "metadata": {},
   "outputs": [
    {
     "name": "stdout",
     "output_type": "stream",
     "text": [
      "your age in time is 262800 : 15768000 : 946080000\n"
     ]
    }
   ],
   "source": [
    "# Q17_P106:\n",
    "def change_to_time(age):\n",
    "    seconds = (age * 365) * 86400\n",
    "    hours = seconds // 3600\n",
    "    minutes = seconds // 60\n",
    "    return f'{hours} : {minutes} : {seconds}'\n",
    "age = int(input('Enter your age ='))\n",
    "print(f'your age in time is {change_to_time(age)}')\n"
   ]
  },
  {
   "cell_type": "code",
   "execution_count": 12,
   "metadata": {},
   "outputs": [
    {
     "name": "stdout",
     "output_type": "stream",
     "text": [
      "your salary is 1,600,000 IRR\n"
     ]
    }
   ],
   "source": [
    "# Q18_P106:\n",
    "class TAX:\n",
    "    def __init__(self,salary:int=0):\n",
    "        self.salary = salary\n",
    "    def get(self):\n",
    "        self.salary = int(input('Enter your salary ='))\n",
    "    def tax(self):\n",
    "        if 0 <= self.salary <= 99999999:\n",
    "            if 0 <= self.salary <= 483000:\n",
    "                return self.salary\n",
    "            elif 483001 <= self.salary <= 600000:\n",
    "                return round(self.salary - (self.salary * 0.1))\n",
    "            elif 600001 <= self.salary <= 1000000:\n",
    "                return round(self.salary - (self.salary * 0.15))\n",
    "            elif 1000001 <= self.salary <= 2000000:\n",
    "                return round(self.salary - (self.salary * 0.2))\n",
    "            elif 2000001 <= self.salary <= 99999999:\n",
    "                return round(self.salary - (self.salary * 0.3))\n",
    "        else:\n",
    "            return 'Enter correct salary!'\n",
    "obj = TAX()\n",
    "obj.get()\n",
    "tax1 = '{:,}'.format(obj.tax())\n",
    "print(f'your salary is {tax1} IRR')\n"
   ]
  },
  {
   "cell_type": "code",
   "execution_count": 2,
   "metadata": {},
   "outputs": [
    {
     "data": {
      "text/plain": [
       "14.8"
      ]
     },
     "execution_count": 2,
     "metadata": {},
     "output_type": "execute_result"
    }
   ],
   "source": [
    "# Q22_P107:\n",
    "class MAIN_SCORE:\n",
    "    def __init__(self,mian_term:int = 0 , final_term:int = 0):\n",
    "        self.mian_term = mian_term\n",
    "        self.final_term = final_term\n",
    "    def MAIN(self,main:int=0):\n",
    "        self.main_term = int(input('Enter score main='))\n",
    "        self.main = round(self.main_term * 0.4,2)\n",
    "        return self.main\n",
    "    def FINAL(self,final:int = 0):\n",
    "        self.final_term = int(input('Enter score final='))\n",
    "        self.final = round(self.final_term * 0.6,2)\n",
    "        return self.final\n",
    "    def score(self):\n",
    "        return self.main + self.final\n",
    "obj = MAIN_SCORE()\n",
    "obj.MAIN()\n",
    "obj.FINAL()\n",
    "obj.score()\n",
    "    "
   ]
  },
  {
   "cell_type": "code",
   "execution_count": 13,
   "metadata": {},
   "outputs": [
    {
     "name": "stdout",
     "output_type": "stream",
     "text": [
      "عدد وارد شده توانی از 3 است\n"
     ]
    }
   ],
   "source": [
    "# Q23_P107:\n",
    "entry = int(input('Enter ='))\n",
    "if entry % 3 == 0:\n",
    "    print('عدد وارد شده توانی از 3 است')\n",
    "else:\n",
    "    print('توانی از 3 نیست')"
   ]
  },
  {
   "cell_type": "code",
   "execution_count": 2,
   "metadata": {},
   "outputs": [
    {
     "data": {
      "text/plain": [
       "24"
      ]
     },
     "execution_count": 2,
     "metadata": {},
     "output_type": "execute_result"
    }
   ],
   "source": [
    "# Q24_P107:\n",
    "class BOX:\n",
    "    def __init__(self,t:int=0,a:int=0,h:int= 0):\n",
    "        self.t = t\n",
    "        self.a = a\n",
    "        self.h = h\n",
    "    def GetInfo(self):\n",
    "        self.t = int(input('t = ?'))\n",
    "        self.a = int(input('a = ?'))\n",
    "        self.h = int(input('h = ?'))\n",
    "    def box(self):\n",
    "        return (self.t * self.a * self.h)\n",
    "obj = BOX()\n",
    "obj.GetInfo()\n",
    "obj.box()"
   ]
  },
  {
   "cell_type": "code",
   "execution_count": 4,
   "metadata": {},
   "outputs": [
    {
     "name": "stdout",
     "output_type": "stream",
     "text": [
      "800,000\n"
     ]
    }
   ],
   "source": [
    "# Q25_P107:\n",
    "def Takhfif(price:int,takhfif:int):\n",
    "    return round(price - (takhfif/100 *price))\n",
    "price = int(input('Enter product price ='))\n",
    "takhfif = int(input('Enter product takhfif % ='))\n",
    "pt = Takhfif(price , takhfif)\n",
    "print(f'{pt:,}')\n"
   ]
  },
  {
   "cell_type": "code",
   "execution_count": 35,
   "metadata": {},
   "outputs": [
    {
     "name": "stdout",
     "output_type": "stream",
     "text": [
      "year     money\n",
      " 1      5250.00\n",
      " 2      5512.50\n",
      " 3      5788.12\n",
      " 4      6077.53\n",
      " 5      6381.41\n"
     ]
    }
   ],
   "source": [
    "# Q26_P107:\n",
    "def Bank():\n",
    "    save = int(input('Enter money = ?'))\n",
    "    sood = int(input('Enter sood = ?')) / 100\n",
    "    number_year = int(input('Enter year ='))\n",
    "    print(f'year     money')\n",
    "    result = []\n",
    "    for i in range(1,number_year+1):\n",
    "        money = 0\n",
    "        money += save * sood\n",
    "        save += money\n",
    "        result.append(f' {i}      {save:.2f}')\n",
    "    return result\n",
    "\n",
    "bank = Bank()\n",
    "for i in bank:\n",
    "    print(i)"
   ]
  },
  {
   "cell_type": "code",
   "execution_count": 15,
   "metadata": {},
   "outputs": [
    {
     "name": "stdout",
     "output_type": "stream",
     "text": [
      "مقدار وارد شده عدد است\n"
     ]
    }
   ],
   "source": [
    "# Q27_P107:\n",
    "entry = input('Enter = ')\n",
    "if entry.isdigit():\n",
    "    print('مقدار وارد شده عدد است')\n",
    "elif entry.isupper():\n",
    "    print('مقدار وارد شده با حروف بزرگ است')\n",
    "elif entry.islower():\n",
    "    print('مقدار وارد شدع حروف کوچک است')\n",
    "else:\n",
    "    print('سایر موارد است ')"
   ]
  },
  {
   "cell_type": "code",
   "execution_count": 44,
   "metadata": {},
   "outputs": [
    {
     "name": "stdout",
     "output_type": "stream",
     "text": [
      "مثلث قائم الزاویه\n",
      "مقادیر وارد شده نمیتواند تشکیل مثلث دهد\n"
     ]
    }
   ],
   "source": [
    "# Q36_P108:\n",
    "def check_traingle():\n",
    "    while True:\n",
    "        a = int(input('a = ?'))\n",
    "        if a == -1:break\n",
    "        b = int(input('b = ?'))\n",
    "        c = int(input('c = ?'))\n",
    "        if a >= 0 and b >= 0 and c >= 0:\n",
    "            if  c== a + b or a  == b + c or b == a + c:\n",
    "                print('مثلث قائم الزاویه')\n",
    "            elif a == b == c :\n",
    "                print('متساوی الضلاع')\n",
    "            elif a == b or a == c or b == c:\n",
    "                print('متساوی الساقین')\n",
    "            \n",
    "        else:\n",
    "            print('مقادیر وارد شده نمیتواند تشکیل مثلث دهد')\n",
    "check_traingle()\n"
   ]
  },
  {
   "cell_type": "code",
   "execution_count": 43,
   "metadata": {},
   "outputs": [
    {
     "data": {
      "text/plain": [
       "False"
      ]
     },
     "execution_count": 43,
     "metadata": {},
     "output_type": "execute_result"
    }
   ],
   "source": []
  },
  {
   "cell_type": "code",
   "execution_count": null,
   "metadata": {},
   "outputs": [],
   "source": []
  }
 ],
 "metadata": {
  "kernelspec": {
   "display_name": "KAVEH",
   "language": "python",
   "name": "python3"
  },
  "language_info": {
   "codemirror_mode": {
    "name": "ipython",
    "version": 3
   },
   "file_extension": ".py",
   "mimetype": "text/x-python",
   "name": "python",
   "nbconvert_exporter": "python",
   "pygments_lexer": "ipython3",
   "version": "3.11.7"
  }
 },
 "nbformat": 4,
 "nbformat_minor": 2
}
