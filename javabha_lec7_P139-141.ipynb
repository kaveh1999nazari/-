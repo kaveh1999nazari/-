{
 "cells": [
  {
   "cell_type": "code",
   "execution_count": 6,
   "metadata": {},
   "outputs": [
    {
     "name": "stdout",
     "output_type": "stream",
     "text": [
      "your sood 5 of every month of your money 200000 will : 833\n",
      "your sood 5 of every month of your money 300000 will : 1250\n",
      "your sood 4 of every month of your money 200000 will : 667\n",
      "your sood 4 of every month of your money 300000 will : 1000\n",
      "your sood 0 of every month of your money 0 will : 0\n"
     ]
    }
   ],
   "source": [
    "# Q1_P139:\n",
    "class Saving_Account:\n",
    "    def __init__(self,sood,money):\n",
    "        self.sood = sood\n",
    "        self.money = money\n",
    "    \n",
    "    def annualInterestRate(self):\n",
    "        self.sood = int(input('Enter sood ='))\n",
    "    \n",
    "    def saving_balance(self):\n",
    "        self.money = int(input('Enter money ='))\n",
    "    \n",
    "    def CalculateModifyInterest(self):\n",
    "        return round(((self.sood/100) * self.money) / 12)\n",
    "\n",
    "obj = Saving_Account(1,1)\n",
    "while obj.sood != 0:\n",
    "    obj.annualInterestRate()\n",
    "    obj.saving_balance()\n",
    "    print(f'your sood {obj.sood}% of every month of your money {obj.money} will : {obj.CalculateModifyInterest()}')\n",
    "\n",
    "\n"
   ]
  },
  {
   "cell_type": "code",
   "execution_count": 25,
   "metadata": {},
   "outputs": [
    {
     "name": "stdout",
     "output_type": "stream",
     "text": [
      "that is not prime number!\n",
      "this number is not least common factor!\n"
     ]
    }
   ],
   "source": [
    "# Q2_P139:\n",
    "from sympy import isprime\n",
    "class CHKNUM:\n",
    "    def __init__(self,x,X,a,b):\n",
    "        self.x = x\n",
    "        self.X = X\n",
    "        self.a = a\n",
    "        self.b = b\n",
    "    def IsPrime1(self):\n",
    "        self.X = int(input('Enter x ='))\n",
    "        if isprime(self.X):\n",
    "            self.x = self.X\n",
    "        else:\n",
    "            print('that is not prime number!')\n",
    "    \n",
    "    def least_comfactor(self):\n",
    "        self.a = int(input('Enter a ='))\n",
    "        self.b = int(input('Enter b ='))\n",
    "        if self.x % self.a == 0 and self.x % self.b == 0:\n",
    "            print('this number is least common factor!')\n",
    "            print(self.x)\n",
    "        else:\n",
    "            print('this number is not least common factor!')\n",
    "obj = CHKNUM(1,1,1,1)\n",
    "obj.IsPrime1()\n",
    "obj.least_comfactor()"
   ]
  },
  {
   "cell_type": "code",
   "execution_count": 49,
   "metadata": {},
   "outputs": [
    {
     "name": "stdout",
     "output_type": "stream",
     "text": [
      "A = 6\n",
      "perimeter = 14\n",
      "Area = 5.92\n"
     ]
    }
   ],
   "source": [
    "# Q3_P139:\n",
    "import math\n",
    "class traingle:\n",
    "    def __init__(self , b , c, alpha):\n",
    "        self.b = b\n",
    "        self.c = c\n",
    "        self.alpha = alpha\n",
    "\n",
    "\n",
    "    def get(self):\n",
    "        self.b = eval(input('b ='))\n",
    "        self.c = eval(input('c ='))\n",
    "        self.alpha = eval(input('alpha ='))\n",
    "\n",
    "    \n",
    "    def A(self ,a):\n",
    "        a = (math.pow(self.b,2) + math.pow(self.c,2)) - (2 * self.b * self.c * round(math.cos(self.alpha),2)) \n",
    "        self.a = round(math.sqrt(a))\n",
    "        return self.a\n",
    "\n",
    "    def Perimeter(self, peri):\n",
    "        peri = self.a + self.b + self.c\n",
    "        self.peri = peri\n",
    "        return round(self.peri,2)\n",
    "    \n",
    "    def Area(self, area):\n",
    "        area = self.peri/2 * (self.peri/2 - self.a) * (self.peri/2 - self.b) * (self.peri/2 - self.c)\n",
    "        self.area = math.sqrt(area)\n",
    "        return round(self.area,2)\n",
    "\n",
    "obj = traingle(1,1,1)\n",
    "obj.get()\n",
    "print(f'A = {obj.A(0)}')\n",
    "print(f'perimeter = {obj.Perimeter(0)}')\n",
    "print(f'Area = {obj.Area(0)}')\n",
    "    \n"
   ]
  },
  {
   "cell_type": "code",
   "execution_count": 3,
   "metadata": {},
   "outputs": [
    {
     "name": "stdout",
     "output_type": "stream",
     "text": [
      "total area = 109.0\n",
      "total perimeter = 52\n"
     ]
    }
   ],
   "source": [
    "# Q4_P140:\n",
    "import random\n",
    "import math\n",
    "class square:\n",
    "    def __init__(self,x):\n",
    "        self.x = x\n",
    "    \n",
    "    def Area(self):\n",
    "        return math.pow(self.x,2)\n",
    "    \n",
    "    def perimeter(self):\n",
    "        return 4 * self.x\n",
    "num = int(input('how many square do you want?'))\n",
    "total_area = 0\n",
    "total_perimeter = 0\n",
    "for i in range(1,num+1):\n",
    "    x = random.randint(1,10)\n",
    "    obj = square(x)\n",
    "    area = obj.Area()\n",
    "    perimeter = obj.perimeter()\n",
    "    total_area += area\n",
    "    total_perimeter += perimeter\n",
    "print(f'total area = {total_area}')\n",
    "print(f'total perimeter = {total_perimeter}')\n",
    "    "
   ]
  },
  {
   "cell_type": "code",
   "execution_count": 26,
   "metadata": {},
   "outputs": [
    {
     "name": "stdout",
     "output_type": "stream",
     "text": [
      "your id = 1\n",
      "name = kaveh\n",
      "ast name = nazari\n",
      "all pay = 5,780,000 تومان\n",
      "tax = 1,734,000 تومان\n",
      "bimeh = 578,000.0 تومان\n",
      "real salary = 3,468,000 تومان\n"
     ]
    }
   ],
   "source": [
    "# Q5_P140:\n",
    "class Employee:\n",
    "\n",
    "    def __init__(self,id,name,last_name,pay):\n",
    "        self.id = id\n",
    "        self.name = name\n",
    "        self.last_name = last_name\n",
    "        self.pay = pay\n",
    "\n",
    "    def Bimeh(self,bimeh):\n",
    "        bimeh = (10/100) * self.pay\n",
    "        self.bimeh = bimeh\n",
    "        return self.bimeh\n",
    "    \n",
    "    def Tax(self,tax):\n",
    "        if self.pay <= 2300000:\n",
    "            tax = 0\n",
    "        elif 2300000 < self.pay < 5000000:\n",
    "            tax = self.pay * (10/100)\n",
    "        else:\n",
    "            tax = self.pay * (30/100)\n",
    "        self.tax = tax\n",
    "        return self.tax\n",
    "    def Payment(self):\n",
    "        return self.pay - ( self.tax + self.bimeh)\n",
    "obj = Employee(0,0,0,0)\n",
    "while True:\n",
    "    obj.id = int(input('Enter your id ='))\n",
    "    if obj.id == 0:break\n",
    "    obj.name = input('Enter your name =')\n",
    "    obj.last_name = input('Enter your last name =')\n",
    "    obj.pay = int(input('Enter your pay ='))\n",
    "    pay = '{:,}'.format(obj.pay) + ' تومان'\n",
    "    tax = round(obj.Tax(0))\n",
    "    tax1 = '{:,}'.format(tax) + ' تومان'\n",
    "    bimeh = obj.Bimeh(0)\n",
    "    bimeh1 = '{:,}'.format(bimeh) + ' تومان'\n",
    "    payment = round(obj.Payment())\n",
    "    peyment1 = '{:,}'.format(payment) + ' تومان'\n",
    "    print(f'your id = {obj.id}\\nname = {obj.name}\\nlast name = {obj.last_name}\\nall pay = {pay}\\ntax = {(tax1)}\\nbimeh = {bimeh1}\\nreal salary = {peyment1}')\n",
    "    "
   ]
  },
  {
   "cell_type": "code",
   "execution_count": 13,
   "metadata": {},
   "outputs": [
    {
     "name": "stdout",
     "output_type": "stream",
     "text": [
      "your yard 5 is equal to 4.57 meter\n"
     ]
    }
   ],
   "source": [
    "# Q6_P140:\n",
    "class Parche:\n",
    "    def __init__(self , yard):\n",
    "        self.yard = yard\n",
    "    \n",
    "    def get(self):\n",
    "        self.yard = int(input('Enter number='))\n",
    "    \n",
    "    def change_to_meter(self):\n",
    "        meter_value = self.yard * 0.9144\n",
    "        return meter_value \n",
    "obj = Parche(0)\n",
    "obj.get()\n",
    "meter = round(obj.change_to_meter(),2)\n",
    "print(f'your yard {obj.yard} is equal to {meter} meter')"
   ]
  },
  {
   "cell_type": "code",
   "execution_count": 9,
   "metadata": {},
   "outputs": [
    {
     "name": "stdout",
     "output_type": "stream",
     "text": [
      "perimeter of traingle:\n",
      "7.81\n",
      "area of traingle:\n",
      "15.0\n"
     ]
    }
   ],
   "source": [
    "# Q7_P140:\n",
    "import math as m\n",
    "class traingle:\n",
    "    def __init__(self,Gaede,Ertefah):\n",
    "        self.Gaede = Gaede\n",
    "        self.Ertefah = Ertefah\n",
    "    \n",
    "    def get(self):\n",
    "        self.Gaede = int(input('Enter gaede ='))\n",
    "        self.Ertefah = int(input('Enter ertefah ='))\n",
    "    \n",
    "    def perimeter(self):\n",
    "        return round(m.sqrt(m.pow(self.Gaede,2) + m.pow(self.Ertefah,2)),2)\n",
    "    \n",
    "    def area(self):\n",
    "        return round((self.Gaede * self.Ertefah) / 2,2)\n",
    "\n",
    "obj = traingle(0,0)\n",
    "obj.get()\n",
    "print(f'perimeter of traingle:\\n{obj.perimeter()}')\n",
    "print(f'area of traingle:\\n{obj.area()}')\n"
   ]
  },
  {
   "cell_type": "code",
   "execution_count": 13,
   "metadata": {},
   "outputs": [
    {
     "name": "stdout",
     "output_type": "stream",
     "text": [
      "11 PM\n"
     ]
    }
   ],
   "source": [
    "# Q8_P140:\n",
    "class CHANGER_TIME:\n",
    "    def __init__(self,hour,am,pm):\n",
    "        self.hour = hour\n",
    "        self.am = am\n",
    "        self.pm = pm\n",
    "\n",
    "    def get(self):\n",
    "        self.hour = int(input('Enter hour =')) \n",
    "    \n",
    "    def change_to_am_pm(self):\n",
    "        if self.hour <= 24:\n",
    "            hours = (self.hour % 12) if self.hour % 12 != 0 else 12\n",
    "            time = 'PM' if self.hour > 12 else 'AM'\n",
    "            print(f'{hours} {time}')\n",
    "        else:\n",
    "            print('Enter correct!')\n",
    "         \n",
    "obj = CHANGER_TIME(0,0,0)\n",
    "obj.get()\n",
    "obj.change_to_am_pm()\n",
    "    "
   ]
  },
  {
   "cell_type": "code",
   "execution_count": 17,
   "metadata": {},
   "outputs": [
    {
     "name": "stdout",
     "output_type": "stream",
     "text": [
      "Area of biyzi is = 94.25\n"
     ]
    }
   ],
   "source": [
    "# Q9_P140:\n",
    "import math\n",
    "class biyzi:\n",
    "    def __init__(self,tol,arz):\n",
    "        self.tol = tol\n",
    "        self.arz = arz\n",
    "\n",
    "    def get(self):\n",
    "        self.tol = int(input('Enter tol ='))\n",
    "        self.arz = int(input('Enter arz ='))\n",
    "    def area(self):\n",
    "        return round(math.pi * self.tol * self.arz,2)\n",
    "obj = biyzi(0,0)\n",
    "obj.get()\n",
    "print(f'Area of biyzi is = {obj.area()}')\n"
   ]
  },
  {
   "cell_type": "code",
   "execution_count": 1,
   "metadata": {},
   "outputs": [],
   "source": [
    "# Q10_P140:\n"
   ]
  },
  {
   "cell_type": "code",
   "execution_count": null,
   "metadata": {},
   "outputs": [],
   "source": [
    "# Q11_P141:"
   ]
  },
  {
   "cell_type": "code",
   "execution_count": 5,
   "metadata": {},
   "outputs": [
    {
     "name": "stdout",
     "output_type": "stream",
     "text": [
      "##PLEASE ENTER YOUR TEMPERATURE##\n",
      "#################################\n",
      "##OK, I GOT YOUR TEMP! NOW LET ME KNOW WHICH ONE DO YOU WANT TO CHANGE?##\n",
      "#########################################################################\n",
      "# 0 - exit :(\n",
      "# 1 - C -> F #\n",
      "# 2 - F -> C #\n",
      "##############\n",
      "##WAITING FOR YOUR CHOICE##\n",
      "#############################################\n",
      "your temp is changed to 49 C\n",
      "#####################^^^^^^^#################\n",
      "##PLEASE ENTER YOUR TEMPERATURE##\n",
      "#################################\n",
      "##OK, I GOT YOUR TEMP! NOW LET ME KNOW WHICH ONE DO YOU WANT TO CHANGE?##\n",
      "#########################################################################\n",
      "# 0 - exit :(\n",
      "# 1 - C -> F #\n",
      "# 2 - F -> C #\n",
      "##############\n",
      "##WAITING FOR YOUR CHOICE##\n",
      "##finished##\n"
     ]
    }
   ],
   "source": [
    "# Q12_P141:\n",
    "class temp:\n",
    "    def __init__(self, user=0):\n",
    "        self.user = user\n",
    "    def get(self):\n",
    "        self.user = eval(input('Enter number ='))\n",
    "    def change_to_F(self):\n",
    "        return (self.user * (9/5)) + 32\n",
    "    def change_to_C(self):\n",
    "        return (self.user -32) * (5/9)\n",
    "obj = temp()\n",
    "while True:\n",
    "    print('##PLEASE ENTER YOUR TEMPERATURE##')\n",
    "    print('#################################')\n",
    "    obj.get()\n",
    "    print('##OK, I GOT YOUR TEMP! NOW LET ME KNOW WHICH ONE DO YOU WANT TO CHANGE?##')\n",
    "    print('#########################################################################')\n",
    "    print('# 0 - exit :(\\n# 1 - C -> F #\\n# 2 - F -> C #\\n##############')\n",
    "    print('##WAITING FOR YOUR CHOICE##')\n",
    "    choice = int(input('choice one them ='))\n",
    "\n",
    "    if choice == 1:\n",
    "        print('#############################################')\n",
    "        print(f'your temp is changed to {round(obj.change_to_F())} F')\n",
    "        print('#####################^^^^^^^#################')\n",
    "    elif choice == 2:\n",
    "        print('#############################################')\n",
    "        print(f'your temp is changed to {round(obj.change_to_C())} C')\n",
    "        print('#####################^^^^^^^#################')\n",
    "    elif choice == 0:\n",
    "        print('##finished##')\n",
    "        break\n",
    "    else:\n",
    "        break"
   ]
  },
  {
   "cell_type": "code",
   "execution_count": 47,
   "metadata": {},
   "outputs": [
    {
     "name": "stdout",
     "output_type": "stream",
     "text": [
      "How many fractions do you want to add?\n"
     ]
    },
    {
     "name": "stdout",
     "output_type": "stream",
     "text": [
      "CHOICE WHICH OPERATOR DO YOU WANT TO USE?\n",
      " ['1/2', '2/3', '3/4']\n",
      "0.exit\n",
      "1.add(+)\n",
      "2.sub(-)\n",
      "3.mul(*)\n",
      "4.div(/)\n",
      "5.check is equal or not(==or!=)\n",
      "6.check is greater than or not(>=or<=)\n",
      "1/2 and 2/3 are not equal\n",
      "1/2 and 3/4 are not equal\n",
      "2/3 is greater than 1/2\n",
      "3/4 is greater than 1/2\n",
      "sum is 23/12\n",
      "sub is -11/12\n",
      "mul is 1/4\n",
      "division is 1\n",
      "program is closed successfully!\n"
     ]
    }
   ],
   "source": [
    "# Q13_P141:\n",
    "from fractions import Fraction as Frac\n",
    "class FractionCustom:\n",
    "    def __init__(self,x=0,y=1):\n",
    "        self.x = x\n",
    "        self.y = y\n",
    "        self.fraction = Frac(self.x,self.y)\n",
    "    def get(self):\n",
    "        self.x = int(input(f'Enter numerator{i} ='))\n",
    "        self.y = int(input(f'Enter denominator{i} ='))\n",
    "        self.fraction = Frac(self.x , self.y)\n",
    "    \n",
    "    def creat_fraction(self):\n",
    "        self.fraction = Frac(self.x , self.y)\n",
    "        return self.fraction\n",
    "    \n",
    "    def __add__(self,other):\n",
    "        return self.fraction + other.fraction\n",
    "    def __sub__(self,other):\n",
    "        return self.fraction - other.fraction\n",
    "    def __mul__(self,other):\n",
    "        return self.fraction * other.fraction\n",
    "    def __truediv__(self,other):\n",
    "        return self.fraction / other.fraction\n",
    "    def __eq__(self,other):\n",
    "        return self.fraction == other.fraction\n",
    "    def __ne__(self,other):\n",
    "        return self.fraction != other.fraction\n",
    "    def __lt__(self,other):\n",
    "        return self.fraction < other.fraction\n",
    "    def __gt__(self,other):\n",
    "        return self.fraction > other.fraction\n",
    "    def __le__(self,other):\n",
    "        return self.fraction <= other.fraction\n",
    "    def __ge__(self,other):\n",
    "        return self.fraction >= other.fraction\n",
    "    def __str__(self):  #used for print obj numbers entry for line 47\n",
    "        return f'{self.x}/{self.y}'\n",
    "\n",
    "obj = FractionCustom()\n",
    "print('How many fractions do you want to add?')\n",
    "num = int(input('Enter number ='))\n",
    "fractions_list = []\n",
    "fraction_list = []\n",
    "for i in range(num):\n",
    "    obj.get()\n",
    "    fraction_list.append(str(obj))\n",
    "    fractions_list.append(obj.creat_fraction())\n",
    "print(f'CHOICE WHICH OPERATOR DO YOU WANT TO USE?\\n {fraction_list}')\n",
    "print('0.exit\\n1.add(+)\\n2.sub(-)\\n3.mul(*)\\n4.div(/)\\n5.check is equal or not(==or!=)\\n6.check is greater than or not(>=or<=)')\n",
    "while True:\n",
    "    user = int(input('please choice ='))\n",
    "    if user == 0:\n",
    "        print('program is closed successfully!')\n",
    "        break\n",
    "    elif user == 1:\n",
    "        sum = 0\n",
    "        for i in fractions_list:\n",
    "            sum += i\n",
    "        print(f'sum is {sum}')\n",
    "    elif user == 2:\n",
    "        sub = fractions_list[0]\n",
    "        for i in fractions_list[1:]:\n",
    "            sub -= i\n",
    "        print(f'sub is {sub}')\n",
    "    elif user == 3:\n",
    "        mul = 1\n",
    "        for i in fractions_list:\n",
    "            mul *= i\n",
    "        print(f'mul is {mul}')\n",
    "    elif user == 4:\n",
    "        div = fractions_list[0]\n",
    "        for i in range(1,len(fractions_list)):\n",
    "            div /= fractions_list[i]\n",
    "        print(f'division is {div}')\n",
    "    elif user == 5:\n",
    "        check = fractions_list[0]\n",
    "        for i in fractions_list[1:]:\n",
    "            if check == i:\n",
    "                print(f'{check} and {i} are equal')\n",
    "            else:\n",
    "                print(f'{check} and {i} are not equal')\n",
    "    elif user == 6:\n",
    "        check = fractions_list[0]\n",
    "        for i in fractions_list[1:]:\n",
    "            if check >= i:\n",
    "                print(f'{check} is greater than {i}')\n",
    "            else:\n",
    "                print(f'{i} is greater than {check}')\n",
    "    else:\n",
    "        print('CHOICE CORRECT NUMBER TO CALCULATE')\n",
    "   "
   ]
  }
 ],
 "metadata": {
  "kernelspec": {
   "display_name": "kaveh",
   "language": "python",
   "name": "python3"
  },
  "language_info": {
   "codemirror_mode": {
    "name": "ipython",
    "version": 3
   },
   "file_extension": ".py",
   "mimetype": "text/x-python",
   "name": "python",
   "nbconvert_exporter": "python",
   "pygments_lexer": "ipython3",
   "version": "3.9.18"
  }
 },
 "nbformat": 4,
 "nbformat_minor": 2
}
