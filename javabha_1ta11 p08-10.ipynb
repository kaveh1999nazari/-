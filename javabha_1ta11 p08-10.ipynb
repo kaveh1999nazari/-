{
 "cells": [
  {
   "cell_type": "code",
   "execution_count": 1,
   "metadata": {},
   "outputs": [],
   "source": [
    "# welcome to this answers!\n",
    "# this is designed by kaveh nazari!\n",
    "# this is for who study lesson 1 to 4 on py4e book!"
   ]
  },
  {
   "cell_type": "code",
   "execution_count": 2,
   "metadata": {},
   "outputs": [
    {
     "name": "stdout",
     "output_type": "stream",
     "text": [
      "217.0\n"
     ]
    }
   ],
   "source": [
    "# Q1_p8:\n",
    "قاعده = eval(input('ضلع قاعده مورد نظر خود را وارد کنید = '))\n",
    "ارتفاع = eval(input('اندازه ارتفاع مورد نظر خود را وارد کنید = '))\n",
    "print(قاعده * ارتفاع)"
   ]
  },
  {
   "cell_type": "code",
   "execution_count": 7,
   "metadata": {},
   "outputs": [
    {
     "name": "stdout",
     "output_type": "stream",
     "text": [
      "حجم استوانه برابر است با 2513.2741228718346 و همچنین حجم مساحت کل برابر است با  2764.601535159018\n"
     ]
    }
   ],
   "source": [
    "# Q2_P8:\n",
    "import math\n",
    "def area1(ارتفاع , شعاع):\n",
    "    حجم_استوانه = ارتفاع * ((شعاع) ** 2) * math.pi\n",
    "    return حجم_استوانه\n",
    "def area2(ارتفاع , شعاع):\n",
    "    حجم_مساحت_کل = (2 * math.pi * شعاع * ارتفاع) + (2 * math.pi * (شعاع ** 2))\n",
    "    return حجم_مساحت_کل\n",
    "شعاع = eval(input('لطفا مقدار دلخواه شعاع خود را وارد کنید = '))\n",
    "ارتفاع = eval(input('لطفا مقدار ارتفاع دلخواه خود را وارد کنید = '))\n",
    "result1 = area1(ارتفاع , شعاع)\n",
    "result2 = area2(ارتفاع , شعاع)\n",
    "print('حجم استوانه برابر است با', result1 , 'و همچنین حجم مساحت کل برابر است با ' , result2)"
   ]
  },
  {
   "cell_type": "code",
   "execution_count": 8,
   "metadata": {},
   "outputs": [
    {
     "name": "stdout",
     "output_type": "stream",
     "text": [
      "مساحت کره برابر است با  1256.6370614359173 حجم کره برابر است با  4188.790204786391\n"
     ]
    }
   ],
   "source": [
    "# Q3_P8:\n",
    "import math\n",
    "def area1(شعاع):\n",
    "    مساحت_کره = 4 * math.pi * ((شعاع) ** 2)\n",
    "    return مساحت_کره\n",
    "def area2(شعاع):\n",
    "    حجم_کره = (4/3) * math.pi * ((شعاع) ** 3)\n",
    "    return حجم_کره\n",
    "شعاع = eval(input('مقدار شعاع خود را وارد کنید = '))\n",
    "result1 = area1(شعاع)\n",
    "result2 = area2(شعاع)\n",
    "print('مساحت کره برابر است با ' , result1 , 'حجم کره برابر است با ' , result2)"
   ]
  },
  {
   "cell_type": "code",
   "execution_count": 20,
   "metadata": {},
   "outputs": [
    {
     "name": "stdout",
     "output_type": "stream",
     "text": [
      "مساحت برابر است با  192.0045692930963\n"
     ]
    }
   ],
   "source": [
    "# Q4_P9:\n",
    "import math\n",
    "def area(ضلع , اضلاع):\n",
    "    مساحت = (اضلاع * (ضلع ** 2)) / 4 + math.tan(math.radians(math.pi / اضلاع))    #برای محاسبه تانژانت حتما به رادیان تبدیل شود\n",
    "    return مساحت\n",
    "ضلع = eval(input('لطفا طول ضلع مورد نظر را وارد کنید = '))\n",
    "اضلاع = eval(input('لطفا تعداد اضلاع را وارد کنید = '))\n",
    "result = area(ضلع , اضلاع)\n",
    "print('مساحت برابر است با ', result)"
   ]
  },
  {
   "cell_type": "code",
   "execution_count": 23,
   "metadata": {},
   "outputs": [
    {
     "name": "stdout",
     "output_type": "stream",
     "text": [
      "شاخص وزش باد برابر است با 11\n"
     ]
    }
   ],
   "source": [
    "# Q5_p9:\n",
    "# wind_chill = 13.12 + (0.6215 * T) - (11.37 * (V**0.16)) + (0.3965 * T * (V**0.16))\n",
    "import math                          #کاربرد pow توان است\n",
    "def area(دما , سرعت):\n",
    "    wind_chill = 13.12 + (0.6215 * دما) - (11.37 * (math.pow(سرعت,0.16))) + (0.3965 * دما * math.pow(سرعت,0.16))\n",
    "    return wind_chill\n",
    "دما = eval(input('لطفا دمای مورد نظر را وارد کنید = '))\n",
    "سرعت = eval(input('لطفا سرعت باد مورد نظر را وارد کنید = '))\n",
    "result = area(دما,سرعت)\n",
    "print('شاخص وزش باد برابر است با' , round(result))"
   ]
  },
  {
   "cell_type": "code",
   "execution_count": 24,
   "metadata": {},
   "outputs": [
    {
     "name": "stdout",
     "output_type": "stream",
     "text": [
      "kavehkavehkaveh\n"
     ]
    }
   ],
   "source": [
    "# Q6_P9:\n",
    "word = input('enter a string = ')\n",
    "repeat = int(input('enter how much repeat = '))\n",
    "print(word * repeat)"
   ]
  },
  {
   "cell_type": "code",
   "execution_count": 1,
   "metadata": {},
   "outputs": [
    {
     "name": "stdout",
     "output_type": "stream",
     "text": [
      "(12-4j)\n"
     ]
    }
   ],
   "source": [
    "# Q7_P9:\n",
    "real = eval(input('لطفا عدد مورد نظر خود را وارد کنید = '))\n",
    "imag = eval(input('لطفا عدد مورد نظر خود را وارد کنید = '))\n",
    "complex1 = complex(real , imag)\n",
    "print(complex1)"
   ]
  },
  {
   "cell_type": "code",
   "execution_count": 2,
   "metadata": {},
   "outputs": [
    {
     "name": "stdout",
     "output_type": "stream",
     "text": [
      "تعداد مولکول آب برابر است با  4.2433333333333333e+27\n"
     ]
    }
   ],
   "source": [
    "# Q8_P10:\n",
    "# تعداد مولکول ها برابر است باحاصل ضرب وزن آب ورودی مورد نظر کاربر در وزن یک لیتر آب -950 گرم - تقسیم بر وزن یک مولکول\n",
    "def area(وزن_آب):\n",
    "    تعداد_مولکول = وزن_آب * 950 / 3.0e-23       #3e-23 means (3 * (10 ** -23))\n",
    "    return تعداد_مولکول\n",
    "وزن_آب = eval(input('وزن مورد نظر خود را وارد کنید = '))\n",
    "result = area(وزن_آب)\n",
    "print('تعداد مولکول آب برابر است با ' , result)"
   ]
  },
  {
   "cell_type": "code",
   "execution_count": 3,
   "metadata": {},
   "outputs": [
    {
     "name": "stdout",
     "output_type": "stream",
     "text": [
      "your age in seconds is  1514880000.0\n"
     ]
    }
   ],
   "source": [
    "# Q9_P10:\n",
    "age = eval(input('please input your age = '))\n",
    "seconds = 3.156e7\n",
    "result = age * seconds\n",
    "print('your age in seconds is ', result)"
   ]
  },
  {
   "cell_type": "code",
   "execution_count": 5,
   "metadata": {},
   "outputs": [
    {
     "name": "stdout",
     "output_type": "stream",
     "text": [
      "insurance =  700000.0000000001 / tax = 1000000.0 / receipt =  8300000.0\n"
     ]
    }
   ],
   "source": [
    "# Q10_P10:\n",
    "salary = eval(input('input your salary = '))\n",
    "insurance = salary * 0.07\n",
    "tax = salary * 0.1\n",
    "receipt = salary - (insurance + tax)\n",
    "print('insurance = ' , insurance, '/' , 'tax =' , tax, '/' , 'receipt = ', receipt)\n"
   ]
  },
  {
   "cell_type": "code",
   "execution_count": 21,
   "metadata": {},
   "outputs": [
    {
     "name": "stdout",
     "output_type": "stream",
     "text": [
      "swelling = % 20.0 / next year price will be =  252000000.0\n"
     ]
    }
   ],
   "source": [
    "# Q11_P10 :\n",
    "last_year = int(input('enter your price = '))\n",
    "this_year = int(input('enter your price = '))\n",
    "swelling = float((this_year - last_year) / last_year) * 100\n",
    "next_year = this_year + (this_year * swelling)\n",
    "print('swelling = %' , swelling , '/', 'next year price will be = ' , next_year )"
   ]
  },
  {
   "cell_type": "code",
   "execution_count": null,
   "metadata": {},
   "outputs": [],
   "source": [
    "# thanks for choicing us :)"
   ]
  }
 ],
 "metadata": {
  "kernelspec": {
   "display_name": "Python 3",
   "language": "python",
   "name": "python3"
  },
  "language_info": {
   "codemirror_mode": {
    "name": "ipython",
    "version": 3
   },
   "file_extension": ".py",
   "mimetype": "text/x-python",
   "name": "python",
   "nbconvert_exporter": "python",
   "pygments_lexer": "ipython3",
   "version": "3.11.6"
  }
 },
 "nbformat": 4,
 "nbformat_minor": 2
}
