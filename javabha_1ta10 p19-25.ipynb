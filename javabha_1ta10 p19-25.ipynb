{
 "cells": [
  {
   "cell_type": "code",
   "execution_count": null,
   "metadata": {},
   "outputs": [],
   "source": [
    "# Q1_P19:\n"
   ]
  },
  {
   "cell_type": "code",
   "execution_count": 9,
   "metadata": {},
   "outputs": [
    {
     "name": "stdout",
     "output_type": "stream",
     "text": [
      "100 foot = 30.48 meters and 200 inch = 5.08 meters\n",
      "100 foot = 3048.0 cantimeters and 200 inch = 508.0 cantimeters\n"
     ]
    }
   ],
   "source": [
    "# Q2_P20:\n",
    "def meters_foot(foot):\n",
    "    meters_foot = foot * 0.3048 \n",
    "    return meters_foot\n",
    "def meters_inch(inch):\n",
    "    meters_inch = inch * 0.3048 * (1.0 / 12)\n",
    "    return meters_inch\n",
    "foot = int(input('enter foot ='))\n",
    "inch = int(input('enter inch = '))\n",
    "print(f'{foot} foot = {meters_foot(foot)} meters and {inch} inch = {meters_inch(inch)} meters')\n",
    "print(f'{foot} foot = {meters_foot(foot) * 100} cantimeters and {inch} inch = {meters_inch(inch) * 100} cantimeters')\n"
   ]
  },
  {
   "cell_type": "code",
   "execution_count": 10,
   "metadata": {},
   "outputs": [
    {
     "name": "stdout",
     "output_type": "stream",
     "text": [
      "f = 3.7926999999999997e-06\n"
     ]
    }
   ],
   "source": [
    "# Q3_P21:\n",
    "def f(m1 , m2 , d):\n",
    "    g = 6.693 * 10e-8\n",
    "    f = (g * m1 * m2) / d ** 2\n",
    "    return f\n",
    "def main():\n",
    "    m1 = eval(input('M1 = '))\n",
    "    m2 = eval(input('M2 ='))\n",
    "    d = eval(input('D = '))\n",
    "    print(f'f = {f(m1 , m2 , d)}')\n",
    "main()"
   ]
  },
  {
   "cell_type": "code",
   "execution_count": 14,
   "metadata": {},
   "outputs": [
    {
     "name": "stdout",
     "output_type": "stream",
     "text": [
      "14.922246934117346\n"
     ]
    }
   ],
   "source": [
    "# Q4_P21:\n",
    "import math\n",
    "def w(v , t):\n",
    "    w = 33 - (((10 * math.sqrt(v) - v + 10.5)* (33 - t)) / (23.1))\n",
    "    return w\n",
    "def main():\n",
    "    v = eval(input('V ='))\n",
    "    t = eval(input('T ='))\n",
    "    print(w(v , t))\n",
    "main()"
   ]
  },
  {
   "cell_type": "code",
   "execution_count": 12,
   "metadata": {},
   "outputs": [
    {
     "name": "stdout",
     "output_type": "stream",
     "text": [
      "3 repeat 2 times.\n"
     ]
    }
   ],
   "source": [
    "# Q5_P22:\n",
    "def count_number(number , digit):\n",
    "    count = 0\n",
    "    for i in str(digit):\n",
    "        if i == str(number):\n",
    "            count +=1\n",
    "    return count\n",
    "try:\n",
    "    digit = int(input('Enter a digit = '))\n",
    "    number = int(input('Enter a number = '))\n",
    "    count_num = count_number(number , digit)\n",
    "    print(f'{number} repeat {count_num} times.')\n",
    "except:\n",
    "    print('Enter correct number!')"
   ]
  },
  {
   "cell_type": "code",
   "execution_count": 13,
   "metadata": {},
   "outputs": [
    {
     "data": {
      "text/plain": [
       "0.1411200080598672"
      ]
     },
     "execution_count": 13,
     "metadata": {},
     "output_type": "execute_result"
    }
   ],
   "source": [
    "# Q6_P22:\n",
    "# math programms"
   ]
  },
  {
   "cell_type": "code",
   "execution_count": 16,
   "metadata": {},
   "outputs": [],
   "source": [
    "# Q7_P23:\n",
    "#dont understand!"
   ]
  },
  {
   "cell_type": "code",
   "execution_count": null,
   "metadata": {},
   "outputs": [],
   "source": [
    "# Q8_P23:\n",
    "#dont understand!"
   ]
  },
  {
   "cell_type": "code",
   "execution_count": 17,
   "metadata": {},
   "outputs": [
    {
     "name": "stdout",
     "output_type": "stream",
     "text": [
      "4020\n",
      "4021\n",
      "4022\n",
      "4023\n",
      "4024\n",
      "4025\n",
      "4026\n",
      "4027\n",
      "4028\n",
      "4029\n",
      "4120\n",
      "4121\n",
      "4122\n",
      "4123\n",
      "4124\n",
      "4125\n",
      "4126\n",
      "4127\n",
      "4128\n",
      "4129\n"
     ]
    }
   ],
   "source": [
    "# Q9_P24:\n",
    "for number in range(1000, 10000):\n",
    "    thousands = number // 1000\n",
    "    hundreds = (number // 100) % 10\n",
    "    tens = (number // 10) % 10\n",
    "    units = number % 10\n",
    "\n",
    "    if thousands ** 1 + tens ** 2 + hundreds ** 3 + units ** 4 == hundreds ** 2 + tens ** 3 + units ** 4:\n",
    "        print(number)"
   ]
  },
  {
   "cell_type": "code",
   "execution_count": null,
   "metadata": {},
   "outputs": [],
   "source": []
  }
 ],
 "metadata": {
  "kernelspec": {
   "display_name": "Python 3",
   "language": "python",
   "name": "python3"
  },
  "language_info": {
   "codemirror_mode": {
    "name": "ipython",
    "version": 3
   },
   "file_extension": ".py",
   "mimetype": "text/x-python",
   "name": "python",
   "nbconvert_exporter": "python",
   "pygments_lexer": "ipython3",
   "version": "3.11.6"
  }
 },
 "nbformat": 4,
 "nbformat_minor": 2
}
