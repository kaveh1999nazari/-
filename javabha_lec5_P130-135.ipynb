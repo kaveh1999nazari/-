{
 "cells": [
  {
   "cell_type": "code",
   "execution_count": 1,
   "metadata": {},
   "outputs": [
    {
     "name": "stdout",
     "output_type": "stream",
     "text": [
      "you\n"
     ]
    }
   ],
   "source": [
    "# Q1_P130:\n",
    "entry = input('Enter a name:')\n",
    "num = int(input('number of removes words ='))\n",
    "print(entry[num:])"
   ]
  },
  {
   "cell_type": "code",
   "execution_count": 2,
   "metadata": {},
   "outputs": [
    {
     "name": "stdout",
     "output_type": "stream",
     "text": [
      "o\n"
     ]
    }
   ],
   "source": [
    "# Q2_P130:\n",
    "entry = input('Enter a name:')\n",
    "print(entry[-1])"
   ]
  },
  {
   "cell_type": "code",
   "execution_count": 1,
   "metadata": {},
   "outputs": [
    {
     "name": "stdout",
     "output_type": "stream",
     "text": [
      "Kaveh\n"
     ]
    }
   ],
   "source": [
    "# Q3_P130:\n",
    "entry = input('Enter a name:')\n",
    "print(entry.capitalize())"
   ]
  },
  {
   "cell_type": "code",
   "execution_count": 13,
   "metadata": {},
   "outputs": [
    {
     "name": "stdout",
     "output_type": "stream",
     "text": [
      "kaveh\n"
     ]
    }
   ],
   "source": [
    "# Q4_P130:\n",
    "entry = input('Enter a name:')\n",
    "s = entry.split()\n",
    "print(min(s))"
   ]
  },
  {
   "cell_type": "code",
   "execution_count": 2,
   "metadata": {},
   "outputs": [
    {
     "name": "stdout",
     "output_type": "stream",
     "text": [
      "e\n"
     ]
    }
   ],
   "source": [
    "# Q5_P130:\n",
    "entry = input('Enter a name:')\n",
    "if len(entry) % 2 != 0:\n",
    "    print(entry[int(len(entry) // 2)])\n",
    "else:\n",
    "    print('wrong')"
   ]
  },
  {
   "cell_type": "code",
   "execution_count": 35,
   "metadata": {},
   "outputs": [
    {
     "name": "stdout",
     "output_type": "stream",
     "text": [
      "26+5+12+12+5 = 60\n"
     ]
    }
   ],
   "source": [
    "# Q6_P130:\n",
    "def calculate_name(name):\n",
    "    letters = {'a': 1, 'b': 2, 'c': 3, 'd': 4, \n",
    "               'e': 5, 'f': 6, 'g': 7, 'h': 8, \n",
    "               'i': 9, 'j': 10, 'k':11, 'l': 12, \n",
    "               'm': 13, 'n': 14, 'o': 15, 'p': 16, \n",
    "               'q': 17, 'r': 18, 's': 19, 't': 20, \n",
    "               'u': 21, 'v': 22, 'w': 23, 'x': 24, 'y': 25, 'z': 26}\n",
    "    name = name.lower()\n",
    "    sum_name = sum(letters[letter]for letter in name)\n",
    "    plus_name = '+'.join(str(letters[letter]) for letter in name)\n",
    "    \n",
    "    return f'{plus_name} = {sum_name}'\n",
    "name = input('enter a name')\n",
    "print(calculate_name(name))"
   ]
  },
  {
   "cell_type": "code",
   "execution_count": 3,
   "metadata": {},
   "outputs": [
    {
     "name": "stdout",
     "output_type": "stream",
     "text": [
      "is\n",
      "test\n",
      "2 founded\n"
     ]
    }
   ],
   "source": [
    "# Q7_P130:\n",
    "s1 = input('Enter a name =')\n",
    "s2 = input('Enter a name =')\n",
    "y , x = s1 . split(), s2 . split()\n",
    "count = 0\n",
    "for i in y:\n",
    "    for j in x:\n",
    "        if i == j:\n",
    "            count +=1\n",
    "            q = f'{count} founded'\n",
    "            print(i)\n",
    "print(q)\n"
   ]
  },
  {
   "cell_type": "code",
   "execution_count": 62,
   "metadata": {},
   "outputs": [
    {
     "name": "stdout",
     "output_type": "stream",
     "text": [
      "s2 = hi\n",
      "s1 = hi\n"
     ]
    }
   ],
   "source": [
    "# Q8_P131:\n",
    "s1 = input('Enter a string = ')\n",
    "s2 = s1[:]\n",
    "print(f's2 = {s2}\\ns1 = {s1}')\n",
    "# way 2\n",
    "n= 'ali reza'\n",
    "r = ''.join(n)\n",
    "print(r)"
   ]
  },
  {
   "cell_type": "code",
   "execution_count": 4,
   "metadata": {},
   "outputs": [
    {
     "name": "stdout",
     "output_type": "stream",
     "text": [
      "hello world\n"
     ]
    }
   ],
   "source": [
    "# Q9_P131:\n",
    "s1 = 'hello'\n",
    "s2 = 'world'\n",
    "print(s1 + \" \" + s2)"
   ]
  },
  {
   "cell_type": "code",
   "execution_count": 1,
   "metadata": {},
   "outputs": [
    {
     "name": "stdout",
     "output_type": "stream",
     "text": [
      "12.342\n"
     ]
    }
   ],
   "source": [
    "# Q10_P131:\n",
    "s1 = '12.342'\n",
    "s2 = float(s1)\n",
    "print(s2)"
   ]
  },
  {
   "cell_type": "code",
   "execution_count": 26,
   "metadata": {},
   "outputs": [
    {
     "name": "stdout",
     "output_type": "stream",
     "text": [
      "5.12\n"
     ]
    }
   ],
   "source": [
    "# Q11_P131:\n",
    "s1 = input('Enter a float =')\n",
    "n = s1.split('.')\n",
    "x = n[0]\n",
    "y = n[1]\n",
    "s2 = y+'.'+x\n",
    "print(s2)\n",
    "    "
   ]
  },
  {
   "cell_type": "code",
   "execution_count": 5,
   "metadata": {},
   "outputs": [
    {
     "name": "stdout",
     "output_type": "stream",
     "text": [
      "love you, you love\n"
     ]
    }
   ],
   "source": [
    "# Q12_P131:\n",
    "s1 = 'hate you, you doer'\n",
    "s2 = '{0} you, you {0}'.format('love')\n",
    "print(s2)"
   ]
  },
  {
   "cell_type": "code",
   "execution_count": 52,
   "metadata": {},
   "outputs": [
    {
     "name": "stdout",
     "output_type": "stream",
     "text": [
      "{'A': 1, 'C': 3, 'U': 1, 'R': 1, 'E': 2, 'N': 1}\n"
     ]
    }
   ],
   "source": [
    "# Q13_P131:\n",
    "user = 'ACCURENCE'\n",
    "dict = {}\n",
    "for i in user:\n",
    "    dict[i] = dict.get(i , 0) + 1\n",
    "print(dict)"
   ]
  },
  {
   "cell_type": "code",
   "execution_count": 55,
   "metadata": {},
   "outputs": [
    {
     "name": "stdout",
     "output_type": "stream",
     "text": [
      "12 is not equal with 21\n"
     ]
    }
   ],
   "source": [
    "# Q14_P131:\n",
    "n = input('Enter a number =')\n",
    "if n == n[::-1]:\n",
    "    print(f'{n} is equal with {n[::-1]}')\n",
    "else:\n",
    "    print(f'{n} is not equal with {n[::-1]}')\n"
   ]
  },
  {
   "cell_type": "code",
   "execution_count": 11,
   "metadata": {},
   "outputs": [
    {
     "name": "stdout",
     "output_type": "stream",
     "text": [
      "124371 has 6 number.\n"
     ]
    }
   ],
   "source": [
    "# Q15_P131:\n",
    "num = input('enter a number =')\n",
    "count = 0\n",
    "for i in num:\n",
    "    count += 1\n",
    "print(f'{num} has {count} number.')\n",
    "    "
   ]
  },
  {
   "cell_type": "code",
   "execution_count": 7,
   "metadata": {},
   "outputs": [
    {
     "name": "stdout",
     "output_type": "stream",
     "text": [
      " hevak dna neissoh\n"
     ]
    }
   ],
   "source": [
    "# Q16_P132:\n",
    "entry = input('enter every thing =')\n",
    "lst_entry = entry.split()\n",
    "reverse_entry = ''\n",
    "for i in lst_entry:\n",
    "    i = i[::-1]\n",
    "    reverse_entry = reverse_entry + ' ' + i\n",
    "print(reverse_entry)"
   ]
  },
  {
   "cell_type": "code",
   "execution_count": 9,
   "metadata": {},
   "outputs": [
    {
     "name": "stdout",
     "output_type": "stream",
     "text": [
      "this word has 5 words\n"
     ]
    }
   ],
   "source": [
    "# Q17_P132:\n",
    "entry = input('enter a word =')\n",
    "print(f'this word has {len(entry)} words')"
   ]
  },
  {
   "cell_type": "code",
   "execution_count": 21,
   "metadata": {},
   "outputs": [
    {
     "name": "stdout",
     "output_type": "stream",
     "text": [
      "hellorezaifyouwatchthispleasetellme.\n"
     ]
    }
   ],
   "source": [
    "# Q18_P132:\n",
    "p = 'hello reza    if you watch this please tell me    .'\n",
    "x = ''\n",
    "\n",
    "for i in p:\n",
    "    if i in ' ' and '\\n' and '\\t': continue\n",
    "    x += i\n",
    "print(x)"
   ]
  },
  {
   "cell_type": "code",
   "execution_count": 5,
   "metadata": {},
   "outputs": [
    {
     "name": "stdout",
     "output_type": "stream",
     "text": [
      "ra\n"
     ]
    }
   ],
   "source": [
    "# Q19_P132:\n",
    "def remove_string(string , start , end):\n",
    "    string_new = string[:start] + string[end:]\n",
    "    return string_new\n",
    "string = input('enter a string = ')\n",
    "start = int(input('enter a number ='))\n",
    "end = int(input('enter a number ='))\n",
    "print(remove_string(string , start , end))\n",
    "\n"
   ]
  },
  {
   "cell_type": "code",
   "execution_count": 9,
   "metadata": {},
   "outputs": [
    {
     "name": "stdout",
     "output_type": "stream",
     "text": [
      "fmkdfdmfklds   \n"
     ]
    }
   ],
   "source": [
    "# Q20_P132:\n",
    "p = input('enter =')\n",
    "p = p.lstrip()\n",
    "print(p)"
   ]
  },
  {
   "cell_type": "code",
   "execution_count": 10,
   "metadata": {},
   "outputs": [
    {
     "name": "stdout",
     "output_type": "stream",
     "text": [
      "t e s t "
     ]
    }
   ],
   "source": [
    "# Q21_P132:\n",
    "p = 'test'\n",
    "for i in p:\n",
    "    print(i , end=' ')"
   ]
  },
  {
   "cell_type": "code",
   "execution_count": 12,
   "metadata": {},
   "outputs": [
    {
     "name": "stdout",
     "output_type": "stream",
     "text": [
      "reza has 4 length\n",
      "ali has 3 length\n"
     ]
    }
   ],
   "source": [
    "# Q22_P132:\n",
    "num = int(input('enter number ='))\n",
    "for i in range(num):\n",
    "    i = input('enter a string =')\n",
    "    length = len(i)\n",
    "    print(f'{i} has {length} length')"
   ]
  },
  {
   "cell_type": "code",
   "execution_count": 54,
   "metadata": {},
   "outputs": [
    {
     "name": "stdout",
     "output_type": "stream",
     "text": [
      "reza 4\n"
     ]
    }
   ],
   "source": [
    "# Q23_P132:\n",
    "num = int(input('enter number ='))\n",
    "dict = {}\n",
    "for i in range(num):\n",
    "    i = input('enter a string =')\n",
    "    dict[i] = len(i)\n",
    "\n",
    "sort_item = sorted(dict.items() , key=lambda x:x[1] , reverse= True) \n",
    "max_length = sort_item[0][1]\n",
    "for i in sort_item:\n",
    "    if i[1] == max_length:\n",
    "        print(i[0] , i[1])\n",
    "\n"
   ]
  },
  {
   "cell_type": "code",
   "execution_count": 58,
   "metadata": {},
   "outputs": [
    {
     "name": "stdout",
     "output_type": "stream",
     "text": [
      "['rar', 'tart']\n"
     ]
    }
   ],
   "source": [
    "# Q24_P132:\n",
    "num = int(input('enter number ='))\n",
    "lst = []\n",
    "for i in range(num):\n",
    "    i = input('enter a string =')\n",
    "    if i[0] == i[-1]:\n",
    "        lst.append(i)\n",
    "print(lst)\n"
   ]
  },
  {
   "cell_type": "code",
   "execution_count": 60,
   "metadata": {},
   "outputs": [
    {
     "name": "stdout",
     "output_type": "stream",
     "text": [
      "['reza']\n"
     ]
    }
   ],
   "source": [
    "# Q25_P132:\n",
    "num = int(input('enter number ='))\n",
    "lst = []\n",
    "for i in range(num):\n",
    "    i = input('enter a string =')\n",
    "    if i[0] == 'r' or i[-1] == 'a':\n",
    "        lst.append(i)\n",
    "print(lst)"
   ]
  },
  {
   "cell_type": "code",
   "execution_count": 65,
   "metadata": {},
   "outputs": [
    {
     "name": "stdout",
     "output_type": "stream",
     "text": [
      "hewllo\n"
     ]
    }
   ],
   "source": [
    "# Q26_P132:\n",
    "string = input('enter a string =')\n",
    "n = input('enter a word =')\n",
    "length = len(string) // 2\n",
    "new_string = string[:length] + n + string[length:]\n",
    "print(new_string)\n"
   ]
  },
  {
   "cell_type": "code",
   "execution_count": 66,
   "metadata": {},
   "outputs": [
    {
     "name": "stdout",
     "output_type": "stream",
     "text": [
      "ali reza\n"
     ]
    }
   ],
   "source": [
    "# Q27_P133:\n",
    "s1 = input('s1 =')\n",
    "s2 = input('s2 =')\n",
    "s3 = s1 + ' ' + s2\n",
    "print(s3)\n"
   ]
  },
  {
   "cell_type": "code",
   "execution_count": 13,
   "metadata": {},
   "outputs": [
    {
     "name": "stdout",
     "output_type": "stream",
     "text": [
      "max word in kaveh is v.\n"
     ]
    }
   ],
   "source": [
    "# Q28_P133:\n",
    "string = input('enter a string = ')\n",
    "max_string = max(string , key=lambda x:ord(x))\n",
    "print(f'max word in {string} is {max_string}.')"
   ]
  },
  {
   "cell_type": "code",
   "execution_count": 17,
   "metadata": {},
   "outputs": [
    {
     "name": "stdout",
     "output_type": "stream",
     "text": [
      "mary\n"
     ]
    }
   ],
   "source": [
    "# Q29_P133:\n",
    "string = input('enter a string =')\n",
    "s = ''\n",
    "for i in string:\n",
    "    if i in s: continue\n",
    "    else: s += i\n",
    "print(s)\n",
    "    \n"
   ]
  },
  {
   "cell_type": "code",
   "execution_count": 40,
   "metadata": {},
   "outputs": [
    {
     "name": "stdout",
     "output_type": "stream",
     "text": [
      "['l', 'o']\n",
      "{'o', 'l'}\n"
     ]
    }
   ],
   "source": [
    "# Q30_P133:\n",
    "s1 = 'helo'\n",
    "s2 = 'yallio'\n",
    "r =[]\n",
    "for i in s1:\n",
    "    if i in s2 and i not in r:\n",
    "        r.append(i)\n",
    "print(r)\n",
    "\n",
    "####### or ######## second way :\n",
    "set1 , set2 = set(s1) , set(s2)\n",
    "word_same = set1.intersection(set2)\n",
    "print(word_same)\n",
    "            \n"
   ]
  },
  {
   "cell_type": "code",
   "execution_count": 50,
   "metadata": {},
   "outputs": [
    {
     "name": "stdout",
     "output_type": "stream",
     "text": [
      "reaz\n"
     ]
    }
   ],
   "source": [
    "# Q31_P133:\n",
    "string = input('enter a string = ')\n",
    "n1 = int(input('enter a number ='))\n",
    "n2 = int(input('enter a number ='))\n",
    "if n1 and n2 <= len(string):\n",
    "    lst = list(string)\n",
    "    lst[n1] , lst[n2] = lst[n2] , lst[n1]\n",
    "new_string = ''.join(lst)\n",
    "print(new_string)\n"
   ]
  },
  {
   "cell_type": "code",
   "execution_count": 17,
   "metadata": {},
   "outputs": [
    {
     "name": "stdout",
     "output_type": "stream",
     "text": [
      "    hi \n",
      "hallow\n"
     ]
    }
   ],
   "source": [
    "# Q32_P133:\n",
    "m = input('Enter a string =')\n",
    "n = input('Enter a string =')\n",
    "if len(m) < len(n):\n",
    "    m = ' ' * (len(n) - len(m)) + m\n",
    "    print(f'{m} \\n{n}')\n",
    "else: \n",
    "    print(m, n)\n",
    "\n"
   ]
  },
  {
   "cell_type": "code",
   "execution_count": 26,
   "metadata": {},
   "outputs": [
    {
     "name": "stdout",
     "output_type": "stream",
     "text": [
      "a = 97\n",
      "b = 98\n",
      "c = 99\n",
      "d = 100\n",
      "e = 101\n",
      "f = 102\n",
      "g = 103\n",
      "h = 104\n",
      "i = 105\n",
      "j = 106\n",
      "k = 107\n",
      "l = 108\n",
      "m = 109\n",
      "n = 110\n",
      "o = 111\n",
      "p = 112\n",
      "q = 113\n",
      "r = 114\n",
      "s = 115\n",
      "t = 116\n",
      "u = 117\n",
      "v = 118\n",
      "w = 119\n",
      "x = 120\n",
      "y = 121\n",
      "z = 122\n",
      "A = 65\n",
      "B = 66\n",
      "C = 67\n",
      "D = 68\n",
      "E = 69\n",
      "F = 70\n",
      "G = 71\n",
      "H = 72\n",
      "I = 73\n",
      "J = 74\n",
      "K = 75\n",
      "L = 76\n",
      "M = 77\n",
      "N = 78\n",
      "O = 79\n",
      "P = 80\n",
      "Q = 81\n",
      "R = 82\n",
      "S = 83\n",
      "T = 84\n",
      "U = 85\n",
      "V = 86\n",
      "W = 87\n",
      "X = 88\n",
      "Y = 89\n",
      "Z = 90\n"
     ]
    }
   ],
   "source": [
    "# Q33_P133:\n",
    "for char in range(ord('a') , ord('z')+1):\n",
    "    print(f'{chr(char)} = {char}')\n",
    "\n",
    "for char in range(ord('A') , ord('Z')+1):\n",
    "    print(f'{chr(char)} = {char}')\n"
   ]
  },
  {
   "cell_type": "code",
   "execution_count": 3,
   "metadata": {},
   "outputs": [
    {
     "name": "stdout",
     "output_type": "stream",
     "text": [
      "repeat word = ['p']\n"
     ]
    }
   ],
   "source": [
    "# Q34_P133:\n",
    "string = input('enter a string = ')\n",
    "lst = []\n",
    "a = []\n",
    "for i in string:\n",
    "    if not i in lst:\n",
    "        lst.append(i)\n",
    "    else:\n",
    "        a.append(i)\n",
    "print(f'repeat word = {a}')"
   ]
  },
  {
   "cell_type": "code",
   "execution_count": 45,
   "metadata": {},
   "outputs": [
    {
     "name": "stdout",
     "output_type": "stream",
     "text": [
      "hehill\n"
     ]
    }
   ],
   "source": [
    "# Q35_P133:\n",
    "s1 = input('enter string =')\n",
    "s2 = input('enter string =')\n",
    "new_s1 = s1[:(len(s1)//2)] + s2 + s1[(len(s1)//2):]\n",
    "print(new_s1)"
   ]
  },
  {
   "cell_type": "code",
   "execution_count": 59,
   "metadata": {},
   "outputs": [
    {
     "name": "stdout",
     "output_type": "stream",
     "text": [
      "TrReEeE\n"
     ]
    }
   ],
   "source": [
    "# Q36_P133:\n",
    "entry = input('enter a string =')\n",
    "new_word = ''\n",
    "for i in entry:\n",
    "    if i.islower():\n",
    "        new_word += i+i.upper()\n",
    "    else:\n",
    "        new_word += i\n",
    "print(new_word)"
   ]
  },
  {
   "cell_type": "code",
   "execution_count": 62,
   "metadata": {},
   "outputs": [
    {
     "name": "stdout",
     "output_type": "stream",
     "text": [
      "wotlhellod\n"
     ]
    }
   ],
   "source": [
    "# Q37_P133:\n",
    "n1 = input('enter a string =')\n",
    "n2 = input('enter a string =')\n",
    "num = int(input('enter a number ='))\n",
    "new_word = n2[:num] + n1 + n2[num:]\n",
    "print(new_word)"
   ]
  }
 ],
 "metadata": {
  "kernelspec": {
   "display_name": "Python 3",
   "language": "python",
   "name": "python3"
  },
  "language_info": {
   "codemirror_mode": {
    "name": "ipython",
    "version": 3
   },
   "file_extension": ".py",
   "mimetype": "text/x-python",
   "name": "python",
   "nbconvert_exporter": "python",
   "pygments_lexer": "ipython3",
   "version": "3.9.18"
  }
 },
 "nbformat": 4,
 "nbformat_minor": 2
}
