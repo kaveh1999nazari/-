{
 "cells": [
  {
   "cell_type": "code",
   "execution_count": 3,
   "metadata": {},
   "outputs": [
    {
     "name": "stdout",
     "output_type": "stream",
     "text": [
      "[(3, 18), (2, 14), (1, 12)]\n",
      "student id = 2\n",
      "average = 14\n"
     ]
    }
   ],
   "source": [
    "# Q1_p11:\n",
    "n = int(input('number of students = '))\n",
    "students = []\n",
    "\n",
    "for i in range(n):      #range will repeat n times.\n",
    "    student_id = int(input('enter your student id = '))\n",
    "    student_average = eval(input('enter your average = '))\n",
    "    students.append((student_id,student_average))\n",
    "\n",
    "students.sort(key=lambda x: x[1], reverse=True)    #it means it sorts just by average from largest to smallest beacause of reserve is True.\n",
    "second_student_average = students[1]\n",
    "print(students)\n",
    "print(f'student id = {second_student_average[0]}')\n",
    "print(f'average = {second_student_average[1]}')"
   ]
  },
  {
   "cell_type": "code",
   "execution_count": 16,
   "metadata": {},
   "outputs": [
    {
     "name": "stdout",
     "output_type": "stream",
     "text": [
      "perfect number\n"
     ]
    }
   ],
   "source": [
    "# Q2_P12:\n",
    "while True:\n",
    "    num = int(input('Enter a number = '))\n",
    "    divisor = 0\n",
    "    for i in range(1,num):\n",
    "        if num % i == 0:\n",
    "            divisor += i\n",
    "    if num == divisor:\n",
    "        print('perfect number')\n",
    "    else:\n",
    "        print('not perfect!')\n",
    "    user_input = input('do you want to continue?(Yes/No)')\n",
    "    if user_input.lower() != 'yes':\n",
    "        break\n",
    "    "
   ]
  },
  {
   "cell_type": "code",
   "execution_count": null,
   "metadata": {},
   "outputs": [],
   "source": [
    "# Q3_P13:\n",
    "#ارزش تمرین نداره :)"
   ]
  },
  {
   "cell_type": "code",
   "execution_count": 10,
   "metadata": {},
   "outputs": [
    {
     "name": "stdout",
     "output_type": "stream",
     "text": [
      "h e l l o "
     ]
    }
   ],
   "source": [
    "# Q4_P14:\n",
    "user = input('Enter a word = ')\n",
    "for i in user:\n",
    "    print(i , end =' ')"
   ]
  },
  {
   "cell_type": "code",
   "execution_count": 20,
   "metadata": {},
   "outputs": [
    {
     "name": "stdout",
     "output_type": "stream",
     "text": [
      "payment = 9 and installmet = 1\n",
      "payment = 9 and installmet = 1\n"
     ]
    }
   ],
   "source": [
    "# Q5_P14:\n",
    "while True:\n",
    "    money = int(input('enter a number = '))\n",
    "    installment = int(input('enter your custom installment = '))\n",
    "    interest = int(input('enter your custom interest = '))\n",
    "    payment = round(12 * money / (12 - (installment*interest) / 100))\n",
    "    per_instsllment = round(payment / installment)\n",
    "    print(f'payment = {payment} and installmet = {per_instsllment}')\n",
    "    user = input('Do you want to continue? Y/N')\n",
    "    if user.lower() == 'no':\n",
    "        break\n",
    "\n",
    "#or:\n",
    "def vam(money,tedad,sood):\n",
    "    vam1 = round(12 * money / (12 - (tedad*sood) / 100))\n",
    "    return vam1\n",
    "def ghest(vam , tedad):\n",
    "    ghest1 = round(vam / tedad)\n",
    "    return ghest1\n",
    "while True:\n",
    "    money = int(input('money = '))\n",
    "    tedad = int(input('tedad = '))\n",
    "    sood = int(input('sood = '))\n",
    "    print(f'your vam is {vam(money,tedad,sood)} $ and your ghest is {ghest(vam(money,tedad,sood) , tedad)} $ per month.')\n",
    "    user = input('continue? Y/N')\n",
    "    if user.lower() == 'no':\n",
    "        break"
   ]
  },
  {
   "cell_type": "code",
   "execution_count": 19,
   "metadata": {},
   "outputs": [
    {
     "name": "stdout",
     "output_type": "stream",
     "text": [
      "year = 24, month = 288 , day = 8640 , hour = 207360 , minute = 12441600 , seconds = 746496000\n"
     ]
    }
   ],
   "source": [
    "# Q6_P15:\n",
    "try:\n",
    "    user_birthday = int(input('Enter your year of bith = '))\n",
    "    current_year = int(input('Enter your current year'))\n",
    "    year = current_year - user_birthday  \n",
    "    month = year * 12\n",
    "    day = month * 30\n",
    "    hour = day * 24\n",
    "    minute = hour * 60\n",
    "    seconds = minute * 60\n",
    "    print(f'year = {year}, month = {month} , day = {day} , hour = {hour} , minute = {minute} , seconds = {seconds}')\n",
    "except:\n",
    "    print('please enter correct!')"
   ]
  },
  {
   "cell_type": "code",
   "execution_count": 1,
   "metadata": {},
   "outputs": [
    {
     "name": "stdout",
     "output_type": "stream",
     "text": [
      "max = 5 , mid = 4 , min = 2\n"
     ]
    }
   ],
   "source": [
    "# Q7_P16:\n",
    "num1 = int(input('enter your custom number1 = '))\n",
    "num2 = int(input('enter your custom number2 = '))\n",
    "num3 = int(input('enter your custom number3 = '))\n",
    "min= num1\n",
    "mid = num2\n",
    "max = num3\n",
    "if num2 < min:\n",
    "    min = num2\n",
    "    mid = num1\n",
    "elif num3 < min:\n",
    "    min = num3\n",
    "    mid=num1\n",
    "elif num3 < mid:\n",
    "    mid = num3\n",
    "    max = num2\n",
    "print(f'max = {max} , mid = {mid} , min = {min}')\n",
    "\n",
    "#numbers = num1,num2,num3\n",
    "#print(sorted(numbers))\n",
    "\n"
   ]
  },
  {
   "cell_type": "code",
   "execution_count": 45,
   "metadata": {},
   "outputs": [
    {
     "name": "stdout",
     "output_type": "stream",
     "text": [
      "employee 1 his salary is 475.0 $ and his overtime work is 75.0 $\n",
      "his salary without overtime is 400.0 $\n"
     ]
    }
   ],
   "source": [
    "# Q8_P16:\n",
    "number = int(input('Enter numbers of employee ='))\n",
    "def computepay(hour_employee , rate_employee):      #calculate payment\n",
    "    if hour_employee < 40:\n",
    "        payment = hour_employee * rate_employee\n",
    "    elif hour_employee > 40:\n",
    "        payment = (hour_employee - 40) * (1.5 * rate_employee) + (40 * rate_employee)\n",
    "    return payment\n",
    "def overtime(hour_employee,rate_employee):         #calculate overtime\n",
    "    ov = (hour_employee - 40) * ((1.5) * rate_employee)\n",
    "    return ov\n",
    "for i in range(number):                           #repeat number time that you set at first\n",
    "    id_employee = int(input('Enter your id employee = '))\n",
    "    hour_employee = int(input('Enter your hours work = '))\n",
    "    rate_employee = int(input('Enter your rate of per hour = '))\n",
    "    payment1 = computepay(hour_employee,rate_employee)\n",
    "    ov1 = overtime(hour_employee,rate_employee)\n",
    "    if hour_employee < 40:\n",
    "        print(f'this id {id_employee} payment is {payment1} $')\n",
    "    else:\n",
    "        print(f'employee {id_employee} his salary is {payment1} $ and his overtime work is {ov1} $')\n",
    "        print(f'his salary without overtime is {payment1 - ov1} $')\n",
    "        "
   ]
  },
  {
   "cell_type": "code",
   "execution_count": 51,
   "metadata": {},
   "outputs": [
    {
     "name": "stdout",
     "output_type": "stream",
     "text": [
      "Year                     price\n",
      "1                        120000\n",
      "2                        144000\n",
      "3                        172800\n",
      "4                        207360\n",
      "5                        248832\n"
     ]
    }
   ],
   "source": [
    "# Q9_P17:\n",
    "price = int(input('Enter your producte price = '))\n",
    "number_of_years = int(input('Enter your number of years = '))\n",
    "tavarom = int(input('Enter your tavarom'))\n",
    "print('Year                     price')\n",
    "for i in range(1,number_of_years+1):      #حتما به علاوه یک بکنید چون در خروجی اخری رو حساب نمیکنه\n",
    "    price = round(price + ((price*tavarom) / 100))\n",
    "    print(i ,'                     ', price)"
   ]
  },
  {
   "cell_type": "code",
   "execution_count": 52,
   "metadata": {},
   "outputs": [],
   "source": [
    "# Q10_P17:\n",
    "#سوال ناقص و غیرقابل درک "
   ]
  },
  {
   "cell_type": "code",
   "execution_count": 56,
   "metadata": {},
   "outputs": [
    {
     "name": "stdout",
     "output_type": "stream",
     "text": [
      "1 * 0 = 0\n"
     ]
    }
   ],
   "source": [
    "# Q11_P18:\n",
    "while True:\n",
    "    sum = 0\n",
    "    x = int(input('Enter number = '))\n",
    "    y = int(input('Enter number = '))\n",
    "    if x == 0 and y == 0:\n",
    "        break\n",
    "    temp = y\n",
    "    if y < 0:\n",
    "        temp = -y\n",
    "    for i in range(1, temp+1):\n",
    "        sum += x\n",
    "    if y < 0:\n",
    "        sum = -sum\n",
    "    print(x , '*' , y , '=' , sum)"
   ]
  },
  {
   "cell_type": "code",
   "execution_count": 68,
   "metadata": {},
   "outputs": [
    {
     "name": "stdout",
     "output_type": "stream",
     "text": [
      "عدد متقارن نیست\n"
     ]
    }
   ],
   "source": [
    "# Q12_P18:\n",
    "number = input(\"Enter number = \")\n",
    "reversed_number = number[::-1]        #by this x[::-1] you do the oposite the word\n",
    "\n",
    "if number == reversed_number:\n",
    "    print(\"عدد متقارن است\")\n",
    "else:\n",
    "    print(\"عدد متقارن نیست\")"
   ]
  },
  {
   "cell_type": "code",
   "execution_count": 77,
   "metadata": {},
   "outputs": [
    {
     "name": "stdout",
     "output_type": "stream",
     "text": [
      "please add posetive number!\n"
     ]
    }
   ],
   "source": [
    "# Q13_P19:\n",
    "m = int(input('Enter a number = '))\n",
    "n = int(input('Enter a number = '))\n",
    "sum = 0\n",
    "temp = m\n",
    "if m > 0:\n",
    "    for i in range(1,n):\n",
    "        sum = 0\n",
    "        for j in range(1 , m+1):\n",
    "            sum += temp\n",
    "    temp = sum\n",
    "    print(m , '^' , n , '=' , sum)\n",
    "else:\n",
    "    print('please add posetive number!')"
   ]
  },
  {
   "cell_type": "code",
   "execution_count": null,
   "metadata": {},
   "outputs": [],
   "source": [
    "# thanks for choicing us :)"
   ]
  }
 ],
 "metadata": {
  "kernelspec": {
   "display_name": "Python 3",
   "language": "python",
   "name": "python3"
  },
  "language_info": {
   "codemirror_mode": {
    "name": "ipython",
    "version": 3
   },
   "file_extension": ".py",
   "mimetype": "text/x-python",
   "name": "python",
   "nbconvert_exporter": "python",
   "pygments_lexer": "ipython3",
   "version": "3.9.18"
  }
 },
 "nbformat": 4,
 "nbformat_minor": 2
}
