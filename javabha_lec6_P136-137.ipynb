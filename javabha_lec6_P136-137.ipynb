{
 "cells": [
  {
   "cell_type": "code",
   "execution_count": 23,
   "metadata": {},
   "outputs": [
    {
     "name": "stdout",
     "output_type": "stream",
     "text": [
      "{'uper case': 2, 'lower_case': 4}\n"
     ]
    }
   ],
   "source": [
    "# Q1_P136:\n",
    "def count(user):\n",
    "    upper_case = 0\n",
    "    lower_case = 0\n",
    "    for i in user:\n",
    "        if i.islower():\n",
    "            lower_case += 1\n",
    "        else:\n",
    "            upper_case += 1\n",
    "        \n",
    "    dict = {'uper case' : upper_case , 'lower_case' : lower_case}\n",
    "    return dict\n",
    "\n",
    "user = input('Enter string =')\n",
    "result = count(user)\n",
    "print(result)\n"
   ]
  },
  {
   "cell_type": "code",
   "execution_count": 11,
   "metadata": {},
   "outputs": [
    {
     "name": "stdout",
     "output_type": "stream",
     "text": [
      "[2, 4, 6]\n"
     ]
    }
   ],
   "source": [
    "# Q2_P136:\n",
    "lst = []\n",
    "while True:\n",
    "    user = input('Enter number =')\n",
    "    if user.lower() == 'done' : break\n",
    "    numbers = int(user)\n",
    "    if numbers in lst:continue\n",
    "    lst.append(numbers)\n",
    "\n",
    "print(lst)"
   ]
  },
  {
   "cell_type": "code",
   "execution_count": 27,
   "metadata": {},
   "outputs": [
    {
     "name": "stdout",
     "output_type": "stream",
     "text": [
      "[3, 4, 6, 1]\n",
      "14\n"
     ]
    }
   ],
   "source": [
    "# Q3_P136:\n",
    "lst = []\n",
    "while True:\n",
    "    user = input('enter a number =')\n",
    "    if user.lower() == 'done': break\n",
    "    numbers = int(user)\n",
    "    lst.append(numbers)\n",
    "    sum = 0\n",
    "    for i in lst:\n",
    "        sum += i\n",
    "print(lst)\n",
    "print(sum)"
   ]
  },
  {
   "cell_type": "code",
   "execution_count": 28,
   "metadata": {},
   "outputs": [
    {
     "name": "stdout",
     "output_type": "stream",
     "text": [
      "[3, 4, 1, 6, 17, 28]\n",
      "28\n"
     ]
    }
   ],
   "source": [
    "# Q4_P136:\n",
    "lst = []\n",
    "while True:\n",
    "    user = input('enter number = ')\n",
    "    if user.lower() == 'done': break\n",
    "    number = int(user)\n",
    "    lst.append(number)\n",
    "print(lst)\n",
    "print(max(lst))"
   ]
  },
  {
   "cell_type": "code",
   "execution_count": 39,
   "metadata": {},
   "outputs": [
    {
     "name": "stdout",
     "output_type": "stream",
     "text": [
      "full\n"
     ]
    }
   ],
   "source": [
    "# Q5_P136:\n",
    "lst = []\n",
    "if not lst:\n",
    "    print('empty')\n",
    "else:\n",
    "    print('full')"
   ]
  },
  {
   "cell_type": "code",
   "execution_count": 5,
   "metadata": {},
   "outputs": [
    {
     "name": "stdout",
     "output_type": "stream",
     "text": [
      "one thing is same\n"
     ]
    }
   ],
   "source": [
    "# Q6_P136:\n",
    "lst1 = [1, 2, 3, 4,5]\n",
    "lst2 = [5, 6, 7, 8, 9]\n",
    "common_error = False\n",
    "for i in lst1:\n",
    "    for j in lst2:\n",
    "        if i == j:\n",
    "            common_error = True\n",
    "            break\n",
    "if common_error == True:\n",
    "    print('one thing is same')\n",
    "else:\n",
    "    print('no same thing')"
   ]
  },
  {
   "cell_type": "code",
   "execution_count": 7,
   "metadata": {},
   "outputs": [
    {
     "name": "stdout",
     "output_type": "stream",
     "text": [
      "4\n"
     ]
    }
   ],
   "source": [
    "# Q7_P136:\n",
    "import random\n",
    "lst = [1 , 2 , 3 , 4 , 5]\n",
    "print(random.choice(lst))"
   ]
  },
  {
   "cell_type": "code",
   "execution_count": 63,
   "metadata": {},
   "outputs": [
    {
     "name": "stdout",
     "output_type": "stream",
     "text": [
      "3\n"
     ]
    }
   ],
   "source": [
    "# Q8_P136:\n",
    "lst = [4 , 8, 2, 5, 3]\n",
    "lst.sort()\n",
    "second_small = lst[1]\n",
    "print(second_small)"
   ]
  },
  {
   "cell_type": "code",
   "execution_count": 65,
   "metadata": {},
   "outputs": [],
   "source": [
    "# Q9_P136:"
   ]
  },
  {
   "cell_type": "code",
   "execution_count": 66,
   "metadata": {},
   "outputs": [],
   "source": [
    "# Q10_P136:\n",
    " "
   ]
  },
  {
   "cell_type": "code",
   "execution_count": 67,
   "metadata": {},
   "outputs": [
    {
     "name": "stdout",
     "output_type": "stream",
     "text": [
      "['blue', 'green', 'red', 'yellow']\n"
     ]
    }
   ],
   "source": [
    "# Q11_P136:\n",
    "lst = ['blue' , 'green']\n",
    "while True:\n",
    "    user = input('Enter a name = ')\n",
    "    if user.lower() == 'done' : break\n",
    "    lst.append(user)\n",
    "print(lst)"
   ]
  },
  {
   "cell_type": "code",
   "execution_count": 71,
   "metadata": {},
   "outputs": [],
   "source": [
    "# Q12_P136:"
   ]
  },
  {
   "cell_type": "code",
   "execution_count": 72,
   "metadata": {},
   "outputs": [
    {
     "name": "stdout",
     "output_type": "stream",
     "text": [
      "[5, 6, 4]\n"
     ]
    }
   ],
   "source": [
    "# Q13_P136:\n",
    "lst1 = [1 , 2 , 4]\n",
    "lst2 = [5 , 6]\n",
    "num1 = lst1[-1]\n",
    "lst2.append(num1)\n",
    "print(lst2)"
   ]
  },
  {
   "cell_type": "code",
   "execution_count": 5,
   "metadata": {},
   "outputs": [
    {
     "name": "stdout",
     "output_type": "stream",
     "text": [
      "12\n",
      "15\n",
      "18\n",
      "20\n"
     ]
    }
   ],
   "source": [
    "# Q14_P136:\n",
    "lst = [2 , 5 , 6 , 9 ,12 , 15 , 18 , 20]\n",
    "number = 10\n",
    "for i in lst:\n",
    "    if i > number:\n",
    "        print(i)"
   ]
  },
  {
   "cell_type": "code",
   "execution_count": 6,
   "metadata": {},
   "outputs": [],
   "source": [
    "# Q15_P136:"
   ]
  },
  {
   "cell_type": "code",
   "execution_count": 8,
   "metadata": {},
   "outputs": [
    {
     "name": "stdout",
     "output_type": "stream",
     "text": [
      "{'ali': 1, 'reza': 2, 'mohammad': 3, 'kaveh': 4}\n"
     ]
    }
   ],
   "source": [
    "# Q16_P136:\n",
    "dict1 = {'ali': 1 , 'reza' : 2}\n",
    "dict2 = {'mohammad' : 3 , 'kaveh' : 4}\n",
    "dict1.update(dict2)\n",
    "print(dict1)"
   ]
  },
  {
   "cell_type": "code",
   "execution_count": 4,
   "metadata": {},
   "outputs": [
    {
     "name": "stdout",
     "output_type": "stream",
     "text": [
      "45\n"
     ]
    }
   ],
   "source": [
    "# Q17_P136:\n",
    "dict = {'A' : 15 , 'B' : 12 , 'C' : 18}\n",
    "lst = list(dict.values())\n",
    "print(sum(lst))"
   ]
  },
  {
   "cell_type": "code",
   "execution_count": 8,
   "metadata": {},
   "outputs": [
    {
     "data": {
      "text/plain": [
       "3240"
      ]
     },
     "execution_count": 8,
     "metadata": {},
     "output_type": "execute_result"
    }
   ],
   "source": [
    "# Q18_P137:\n",
    "import math\n",
    "math.prod(lst)"
   ]
  },
  {
   "cell_type": "code",
   "execution_count": 33,
   "metadata": {},
   "outputs": [
    {
     "name": "stdout",
     "output_type": "stream",
     "text": [
      "[('a', 1), ('b', 3), ('c', 2)]\n"
     ]
    }
   ],
   "source": [
    "# Q19_P137:\n",
    "my_dict = {'c':2 , 'a': 1 , 'b':3}\n",
    "sorted_dict = sorted(my_dict.items())\n",
    "print(sorted_dict)"
   ]
  },
  {
   "cell_type": "code",
   "execution_count": 11,
   "metadata": {},
   "outputs": [
    {
     "name": "stdout",
     "output_type": "stream",
     "text": [
      "Y 12\n",
      "C 15\n"
     ]
    }
   ],
   "source": [
    "# Q20_P137:\n",
    "dict = {'C': 15, 'Y': 12, 'Q': 18}\n",
    "max1 = max(dict.keys())\n",
    "min1 = min(dict.keys())\n",
    "print(max1,dict[max1])\n",
    "print(min1,dict[min1])"
   ]
  },
  {
   "cell_type": "code",
   "execution_count": 1,
   "metadata": {},
   "outputs": [
    {
     "name": "stdout",
     "output_type": "stream",
     "text": [
      "[('b', 43), ('c', 35)]\n"
     ]
    }
   ],
   "source": [
    "# Q21_P137:\n",
    "dict1 = {'c':20 , 'a': 1 , 'b':25}\n",
    "dict2 = {'c': 15, 'd': 12, 'b': 18}\n",
    "combine_dict = {}\n",
    "for i in dict1:\n",
    "    if i in dict2:\n",
    "        combine_dict[i] = dict1[i] + dict2[i]\n",
    "combine_dict = sorted(combine_dict.items())\n",
    "print(combine_dict)"
   ]
  },
  {
   "cell_type": "code",
   "execution_count": 15,
   "metadata": {},
   "outputs": [
    {
     "name": "stdout",
     "output_type": "stream",
     "text": [
      "Q : 18\n",
      "C : 15\n",
      "Y : 12\n"
     ]
    }
   ],
   "source": [
    "# Q22_P137:\n",
    "dict1 = {'C': 15, 'Y': 12, 'Q': 18 , 'A':2 , 'D': 1 , 'B':3}\n",
    "sort_dict1 = sorted(dict1.items() , key = lambda x:x[1] , reverse= True)\n",
    "for i in range(3):\n",
    "    key, value = sort_dict1[i]\n",
    "    print(f'{key} : {value}')"
   ]
  },
  {
   "cell_type": "code",
   "execution_count": 10,
   "metadata": {},
   "outputs": [
    {
     "name": "stdout",
     "output_type": "stream",
     "text": [
      "[1, 2, 3, 12, 15, 18]\n"
     ]
    }
   ],
   "source": [
    "# Q23_P137:\n",
    "dict1 = {'C': 15, 'Y': 12, 'Q': 18 , 'A':2 , 'D': 1 , 'B':3}\n",
    "lst=list(dict1.values())\n",
    "lst.sort()\n",
    "print(lst)"
   ]
  },
  {
   "cell_type": "code",
   "execution_count": null,
   "metadata": {},
   "outputs": [],
   "source": []
  }
 ],
 "metadata": {
  "kernelspec": {
   "display_name": "Python 3",
   "language": "python",
   "name": "python3"
  },
  "language_info": {
   "codemirror_mode": {
    "name": "ipython",
    "version": 3
   },
   "file_extension": ".py",
   "mimetype": "text/x-python",
   "name": "python",
   "nbconvert_exporter": "python",
   "pygments_lexer": "ipython3",
   "version": "3.9.18"
  }
 },
 "nbformat": 4,
 "nbformat_minor": 2
}
